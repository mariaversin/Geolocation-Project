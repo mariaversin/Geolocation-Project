{
 "cells": [
  {
   "cell_type": "code",
   "execution_count": 1,
   "metadata": {},
   "outputs": [],
   "source": [
    "from src.constants import places\n",
    "import requests\n",
    "import pprint\n",
    "import re\n",
    "from dotenv import load_dotenv\n",
    "load_dotenv()\n",
    "import pandas as pd\n",
    "import os"
   ]
  },
  {
   "cell_type": "code",
   "execution_count": 2,
   "metadata": {},
   "outputs": [
    {
     "data": {
      "text/plain": [
       "{'starbucks': {'color': 'blue',\n",
       "  'icon': 'coffee',\n",
       "  'rank': 3,\n",
       "  'distance': 1000,\n",
       "  'api': 'Starbucks coffee'},\n",
       " 'airport': {'color': 'red',\n",
       "  'icon': 'plane',\n",
       "  'rank': 20,\n",
       "  'distance': 20000,\n",
       "  'api': 'Airport'},\n",
       " 'school': {'color': 'yellow',\n",
       "  'icon': 'pen',\n",
       "  'rank': 10,\n",
       "  'distance': 1500,\n",
       "  'api': 'Primary School'},\n",
       " 'party': {'color': 'green',\n",
       "  'icon': 'glass',\n",
       "  'rank': 5,\n",
       "  'distance': 1000,\n",
       "  'api': 'party'}}"
      ]
     },
     "execution_count": 2,
     "metadata": {},
     "output_type": "execute_result"
    }
   ],
   "source": [
    "places"
   ]
  },
  {
   "cell_type": "code",
   "execution_count": 3,
   "metadata": {},
   "outputs": [],
   "source": [
    "from pymongo import MongoClient\n",
    "\n",
    "client = MongoClient()\n",
    "\n",
    "def connectCollection(database, collection):\n",
    "    ''' return collection from db crunchbase'''\n",
    "    db = client[database]\n",
    "    coll = db[collection]\n",
    "    return db, coll"
   ]
  },
  {
   "cell_type": "code",
   "execution_count": 4,
   "metadata": {},
   "outputs": [],
   "source": [
    "db, coll = connectCollection('dbcompanies','companies_clean')"
   ]
  },
  {
   "cell_type": "code",
   "execution_count": 5,
   "metadata": {},
   "outputs": [],
   "source": [
    "companies = db.companies_clean.find({ \n",
    "    \"money_raised\":{\n",
    "        \"$gte\": 1000000\n",
    "    }\n",
    "}\n",
    ") "
   ]
  },
  {
   "cell_type": "code",
   "execution_count": 6,
   "metadata": {},
   "outputs": [],
   "source": [
    "data_companies = pd.DataFrame(companies)"
   ]
  },
  {
   "cell_type": "code",
   "execution_count": 7,
   "metadata": {},
   "outputs": [],
   "source": [
    "geo_point = []\n",
    "for loc in range(len(data_companies)):\n",
    "    geo_point.append(data_companies.coordinates[loc])  "
   ]
  },
  {
   "cell_type": "code",
   "execution_count": 8,
   "metadata": {},
   "outputs": [],
   "source": [
    "def near(geo_point, radio_meters):\n",
    "        geopoint = geo_point\n",
    "        return list(db.companies_clean.find({\n",
    "        \"coordinates.coordinates\": {\n",
    "         \"$near\": {\n",
    "             \"$geometry\": geopoint,\n",
    "             \"$maxDistance\": radio_meters\n",
    "         }}})) \n",
    "\n",
    "radio_meters = 5000\n",
    "list_number_offices = []\n",
    "list_offices=[]\n",
    "for i in range(len(data_companies)):\n",
    "    num_offices =  near(geo_point[i], radio_meters)\n",
    "    list_offices.append(num_offices)\n",
    "    list_number_offices.append(len(num_offices))\n",
    "data_companies['number offices near'] = list_number_offices"
   ]
  },
  {
   "cell_type": "code",
   "execution_count": 9,
   "metadata": {},
   "outputs": [],
   "source": [
    "data_companies = data_companies[data_companies['number offices near'] > 1]"
   ]
  },
  {
   "cell_type": "code",
   "execution_count": 10,
   "metadata": {},
   "outputs": [
    {
     "data": {
      "text/html": [
       "<div>\n",
       "<style scoped>\n",
       "    .dataframe tbody tr th:only-of-type {\n",
       "        vertical-align: middle;\n",
       "    }\n",
       "\n",
       "    .dataframe tbody tr th {\n",
       "        vertical-align: top;\n",
       "    }\n",
       "\n",
       "    .dataframe thead th {\n",
       "        text-align: right;\n",
       "    }\n",
       "</style>\n",
       "<table border=\"1\" class=\"dataframe\">\n",
       "  <thead>\n",
       "    <tr style=\"text-align: right;\">\n",
       "      <th></th>\n",
       "      <th>_id</th>\n",
       "      <th>name</th>\n",
       "      <th>employees</th>\n",
       "      <th>year</th>\n",
       "      <th>category</th>\n",
       "      <th>id</th>\n",
       "      <th>money_raised</th>\n",
       "      <th>city</th>\n",
       "      <th>country</th>\n",
       "      <th>latitude</th>\n",
       "      <th>longitude</th>\n",
       "      <th>coordinates</th>\n",
       "      <th>number offices near</th>\n",
       "    </tr>\n",
       "  </thead>\n",
       "  <tbody>\n",
       "    <tr>\n",
       "      <th>0</th>\n",
       "      <td>5e049e9de6eb90cad2d707ad</td>\n",
       "      <td>Fixya</td>\n",
       "      <td>30.0</td>\n",
       "      <td>2013</td>\n",
       "      <td>web</td>\n",
       "      <td>52cdef7c4bab8bd675297fec</td>\n",
       "      <td>8000000.0</td>\n",
       "      <td>San Mateo</td>\n",
       "      <td>USA</td>\n",
       "      <td>37.566879</td>\n",
       "      <td>-122.323895</td>\n",
       "      <td>{'type': 'Point', 'coordinates': [-122.323895,...</td>\n",
       "      <td>2</td>\n",
       "    </tr>\n",
       "    <tr>\n",
       "      <th>2</th>\n",
       "      <td>5e049e9de6eb90cad2d707af</td>\n",
       "      <td>Social Gaming Network</td>\n",
       "      <td>100.0</td>\n",
       "      <td>2011</td>\n",
       "      <td>web</td>\n",
       "      <td>52cdef7c4bab8bd67529831a</td>\n",
       "      <td>17100000.0</td>\n",
       "      <td>Los Angeles</td>\n",
       "      <td>USA</td>\n",
       "      <td>37.446823</td>\n",
       "      <td>-122.161523</td>\n",
       "      <td>{'type': 'Point', 'coordinates': [-122.161523,...</td>\n",
       "      <td>3</td>\n",
       "    </tr>\n",
       "    <tr>\n",
       "      <th>3</th>\n",
       "      <td>5e049e9de6eb90cad2d707b0</td>\n",
       "      <td>Skydeck</td>\n",
       "      <td>9.0</td>\n",
       "      <td>2012</td>\n",
       "      <td>web</td>\n",
       "      <td>52cdef7c4bab8bd675298509</td>\n",
       "      <td>4000000.0</td>\n",
       "      <td>Palo Alto</td>\n",
       "      <td>USA</td>\n",
       "      <td>37.564538</td>\n",
       "      <td>-122.325470</td>\n",
       "      <td>{'type': 'Point', 'coordinates': [-122.3254705...</td>\n",
       "      <td>2</td>\n",
       "    </tr>\n",
       "    <tr>\n",
       "      <th>4</th>\n",
       "      <td>5e049e9de6eb90cad2d707b1</td>\n",
       "      <td>PeekYou</td>\n",
       "      <td>20.0</td>\n",
       "      <td>2012</td>\n",
       "      <td>web</td>\n",
       "      <td>52cdef7c4bab8bd675297f94</td>\n",
       "      <td>1830000.0</td>\n",
       "      <td>New York</td>\n",
       "      <td>USA</td>\n",
       "      <td>40.757929</td>\n",
       "      <td>-73.985506</td>\n",
       "      <td>{'type': 'Point', 'coordinates': [-73.985506, ...</td>\n",
       "      <td>7</td>\n",
       "    </tr>\n",
       "    <tr>\n",
       "      <th>9</th>\n",
       "      <td>5e049e9de6eb90cad2d707b7</td>\n",
       "      <td>Inuvo</td>\n",
       "      <td>50.0</td>\n",
       "      <td>2009</td>\n",
       "      <td>web</td>\n",
       "      <td>52cdef7d4bab8bd67529980b</td>\n",
       "      <td>4200000.0</td>\n",
       "      <td>Clearwater</td>\n",
       "      <td>USA</td>\n",
       "      <td>27.913011</td>\n",
       "      <td>-82.702449</td>\n",
       "      <td>{'type': 'Point', 'coordinates': [-82.702449, ...</td>\n",
       "      <td>2</td>\n",
       "    </tr>\n",
       "  </tbody>\n",
       "</table>\n",
       "</div>"
      ],
      "text/plain": [
       "                        _id                   name  employees  year category  \\\n",
       "0  5e049e9de6eb90cad2d707ad                  Fixya       30.0  2013      web   \n",
       "2  5e049e9de6eb90cad2d707af  Social Gaming Network      100.0  2011      web   \n",
       "3  5e049e9de6eb90cad2d707b0                Skydeck        9.0  2012      web   \n",
       "4  5e049e9de6eb90cad2d707b1                PeekYou       20.0  2012      web   \n",
       "9  5e049e9de6eb90cad2d707b7                  Inuvo       50.0  2009      web   \n",
       "\n",
       "                         id  money_raised         city country   latitude  \\\n",
       "0  52cdef7c4bab8bd675297fec     8000000.0    San Mateo     USA  37.566879   \n",
       "2  52cdef7c4bab8bd67529831a    17100000.0  Los Angeles     USA  37.446823   \n",
       "3  52cdef7c4bab8bd675298509     4000000.0    Palo Alto     USA  37.564538   \n",
       "4  52cdef7c4bab8bd675297f94     1830000.0     New York     USA  40.757929   \n",
       "9  52cdef7d4bab8bd67529980b     4200000.0   Clearwater     USA  27.913011   \n",
       "\n",
       "    longitude                                        coordinates  \\\n",
       "0 -122.323895  {'type': 'Point', 'coordinates': [-122.323895,...   \n",
       "2 -122.161523  {'type': 'Point', 'coordinates': [-122.161523,...   \n",
       "3 -122.325470  {'type': 'Point', 'coordinates': [-122.3254705...   \n",
       "4  -73.985506  {'type': 'Point', 'coordinates': [-73.985506, ...   \n",
       "9  -82.702449  {'type': 'Point', 'coordinates': [-82.702449, ...   \n",
       "\n",
       "   number offices near  \n",
       "0                    2  \n",
       "2                    3  \n",
       "3                    2  \n",
       "4                    7  \n",
       "9                    2  "
      ]
     },
     "execution_count": 10,
     "metadata": {},
     "output_type": "execute_result"
    }
   ],
   "source": [
    "data_companies.head()"
   ]
  },
  {
   "cell_type": "code",
   "execution_count": 11,
   "metadata": {},
   "outputs": [],
   "source": [
    "geo = []\n",
    "for coords in data_companies['coordinates']:\n",
    "    geo.append(coords['coordinates'])"
   ]
  },
  {
   "cell_type": "code",
   "execution_count": 12,
   "metadata": {},
   "outputs": [],
   "source": [
    "def getNearby(lat,lng,query,radius):\n",
    "        CLIENT_ID = os.getenv(\"client_id\")\n",
    "        CLIENT_SECRET = os.getenv(\"client_secret\")\n",
    "        url = 'https://api.foursquare.com/v2/venues/explore'\n",
    "        queryParams = dict(\n",
    "            client_id=CLIENT_ID,\n",
    "            client_secret=CLIENT_SECRET,\n",
    "            v='20181023', # DONDE ESTOY\n",
    "            ll=f\"{lat},{lng}\", #QUE QUIERO\n",
    "            query=query, # A QUE DISTANCIA\n",
    "            radius=radius\n",
    "        )\n",
    "        res = requests.get(url, params=queryParams)\n",
    "        return res.json()\n",
    "  "
   ]
  },
  {
   "cell_type": "code",
   "execution_count": 13,
   "metadata": {},
   "outputs": [],
   "source": [
    "for coord in geo:\n",
    "    for place, value in places.items():\n",
    "        try:\n",
    "            request = (getNearby(coord[1],coord[0],value['api'],value['distance']))\n",
    "        except:\n",
    "            Exception: \"Ha habido problemas con este {}\".formate(place)\n",
    "        "
   ]
  },
  {
   "cell_type": "code",
   "execution_count": 14,
   "metadata": {},
   "outputs": [
    {
     "data": {
      "text/plain": [
       "{'meta': {'code': 429,\n",
       "  'errorType': 'quota_exceeded',\n",
       "  'errorDetail': 'Quota exceeded',\n",
       "  'requestId': '5e04f3921a4b0a0028cdbe5a'},\n",
       " 'response': {}}"
      ]
     },
     "execution_count": 14,
     "metadata": {},
     "output_type": "execute_result"
    }
   ],
   "source": [
    "request"
   ]
  },
  {
   "cell_type": "code",
   "execution_count": 20,
   "metadata": {},
   "outputs": [],
   "source": [
    "def curateResponse(data):\n",
    "    places = []\n",
    "    for item in data[\"response\"][\"groups\"][0][\"items\"]:\n",
    "        places.append({\n",
    "            \"type\": item[\"venue\"]['categories'][0]['name'],\n",
    "            \"name\":item[\"venue\"]['name'],\n",
    "            \"address\":item[\"venue\"]['location'],\n",
    "            \"distance\": item[\"venue\"]['location'][\"distance\"],\n",
    "            \"coordinates\": {\n",
    "            \"type\":\"Point\",\n",
    "            \"coordinates\":[item[\"venue\"]['location'][\"lng\"], item[\"venue\"]['location'][\"lat\"]]\n",
    "                }})\n",
    "    return places"
   ]
  },
  {
   "cell_type": "code",
   "execution_count": 21,
   "metadata": {},
   "outputs": [],
   "source": [
    "df = pd.DataFrame(curateResponse(request))"
   ]
  },
  {
   "cell_type": "code",
   "execution_count": 22,
   "metadata": {},
   "outputs": [
    {
     "data": {
      "text/plain": [
       "array(['Nightclub', 'French Restaurant', 'Roof Deck', 'Hotel',\n",
       "       'Chinese Restaurant', 'Bar', 'Hotel Bar', 'Asian Restaurant',\n",
       "       'Cocktail Bar', 'New American Restaurant', 'Burger Joint',\n",
       "       'Spanish Restaurant', 'Club House', 'Steakhouse', 'Grocery Store',\n",
       "       'Italian Restaurant', 'Wine Bar', 'Gay Bar', 'Seafood Restaurant',\n",
       "       'Tea Room'], dtype=object)"
      ]
     },
     "execution_count": 22,
     "metadata": {},
     "output_type": "execute_result"
    }
   ],
   "source": [
    "df[\"type\"].unique()"
   ]
  }
 ],
 "metadata": {
  "kernelspec": {
   "display_name": "Python 3",
   "language": "python",
   "name": "python3"
  },
  "language_info": {
   "codemirror_mode": {
    "name": "ipython",
    "version": 3
   },
   "file_extension": ".py",
   "mimetype": "text/x-python",
   "name": "python",
   "nbconvert_exporter": "python",
   "pygments_lexer": "ipython3",
   "version": "3.7.5"
  }
 },
 "nbformat": 4,
 "nbformat_minor": 2
}
