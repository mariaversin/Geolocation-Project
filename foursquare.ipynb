{
 "cells": [
  {
   "cell_type": "code",
   "execution_count": 1,
   "metadata": {},
   "outputs": [],
   "source": [
    "from src.constants import places\n",
    "import requests\n",
    "import pprint\n",
    "import re\n",
    "from dotenv import load_dotenv\n",
    "load_dotenv()\n",
    "import pandas as pd\n",
    "import os\n",
    "import json"
   ]
  },
  {
   "cell_type": "code",
   "execution_count": 2,
   "metadata": {},
   "outputs": [],
   "source": [
    "from pymongo import MongoClient\n",
    "\n",
    "client = MongoClient()\n",
    "\n",
    "def connectCollection(database, collection):\n",
    "    ''' return collection from db crunchbase'''\n",
    "    db = client[database]\n",
    "    coll = db[collection]\n",
    "    return db, coll"
   ]
  },
  {
   "cell_type": "code",
   "execution_count": 3,
   "metadata": {},
   "outputs": [],
   "source": [
    "db, coll = connectCollection('dbcompanies','companies_clean')"
   ]
  },
  {
   "cell_type": "code",
   "execution_count": 4,
   "metadata": {},
   "outputs": [],
   "source": [
    "companies = db.companies_clean.find({ \n",
    "    \"money_raised\":{\n",
    "        \"$gte\": 1000000\n",
    "    }}) "
   ]
  },
  {
   "cell_type": "code",
   "execution_count": 5,
   "metadata": {},
   "outputs": [],
   "source": [
    "data_companies = pd.DataFrame(companies)"
   ]
  },
  {
   "cell_type": "code",
   "execution_count": 6,
   "metadata": {},
   "outputs": [],
   "source": [
    "geo_point = []\n",
    "for loc in range(len(data_companies)):\n",
    "    geo_point.append(data_companies.coordinates[loc])  "
   ]
  },
  {
   "cell_type": "code",
   "execution_count": 7,
   "metadata": {},
   "outputs": [],
   "source": [
    "def near(geo_point, radio_meters):\n",
    "        geopoint = geo_point\n",
    "        return list(db.companies_clean.find({\n",
    "        \"coordinates.coordinates\": {\n",
    "         \"$near\": {\n",
    "             \"$geometry\": geopoint,\n",
    "             \"$maxDistance\": radio_meters\n",
    "         }}})) \n",
    "\n",
    "radio_meters = 3000\n",
    "number_offices = []\n",
    "list_offices=[]\n",
    "for i in range(len(data_companies)):\n",
    "    num_offices =  near(geo_point[i], radio_meters)\n",
    "    list_offices.append(num_offices)\n",
    "    number_offices.append(len(num_offices))\n",
    "data_companies['number offices near'] = number_offices"
   ]
  },
  {
   "cell_type": "code",
   "execution_count": 8,
   "metadata": {},
   "outputs": [],
   "source": [
    "data_companies = data_companies[data_companies['number offices near'] > 1]"
   ]
  },
  {
   "cell_type": "code",
   "execution_count": 114,
   "metadata": {},
   "outputs": [
    {
     "data": {
      "text/html": [
       "<div>\n",
       "<style scoped>\n",
       "    .dataframe tbody tr th:only-of-type {\n",
       "        vertical-align: middle;\n",
       "    }\n",
       "\n",
       "    .dataframe tbody tr th {\n",
       "        vertical-align: top;\n",
       "    }\n",
       "\n",
       "    .dataframe thead th {\n",
       "        text-align: right;\n",
       "    }\n",
       "</style>\n",
       "<table border=\"1\" class=\"dataframe\">\n",
       "  <thead>\n",
       "    <tr style=\"text-align: right;\">\n",
       "      <th></th>\n",
       "      <th>_id</th>\n",
       "      <th>name</th>\n",
       "      <th>employees</th>\n",
       "      <th>year</th>\n",
       "      <th>category</th>\n",
       "      <th>id</th>\n",
       "      <th>money_raised</th>\n",
       "      <th>city</th>\n",
       "      <th>country</th>\n",
       "      <th>latitude</th>\n",
       "      <th>longitude</th>\n",
       "      <th>coordinates</th>\n",
       "      <th>number offices near</th>\n",
       "    </tr>\n",
       "  </thead>\n",
       "  <tbody>\n",
       "    <tr>\n",
       "      <th>0</th>\n",
       "      <td>5e049e9de6eb90cad2d707ad</td>\n",
       "      <td>Fixya</td>\n",
       "      <td>30.0</td>\n",
       "      <td>2013</td>\n",
       "      <td>web</td>\n",
       "      <td>52cdef7c4bab8bd675297fec</td>\n",
       "      <td>8000000.0</td>\n",
       "      <td>San Mateo</td>\n",
       "      <td>USA</td>\n",
       "      <td>37.566879</td>\n",
       "      <td>-122.323895</td>\n",
       "      <td>{'type': 'Point', 'coordinates': [-122.323895,...</td>\n",
       "      <td>2</td>\n",
       "    </tr>\n",
       "    <tr>\n",
       "      <th>2</th>\n",
       "      <td>5e049e9de6eb90cad2d707af</td>\n",
       "      <td>Social Gaming Network</td>\n",
       "      <td>100.0</td>\n",
       "      <td>2011</td>\n",
       "      <td>web</td>\n",
       "      <td>52cdef7c4bab8bd67529831a</td>\n",
       "      <td>17100000.0</td>\n",
       "      <td>Los Angeles</td>\n",
       "      <td>USA</td>\n",
       "      <td>37.446823</td>\n",
       "      <td>-122.161523</td>\n",
       "      <td>{'type': 'Point', 'coordinates': [-122.161523,...</td>\n",
       "      <td>3</td>\n",
       "    </tr>\n",
       "    <tr>\n",
       "      <th>3</th>\n",
       "      <td>5e049e9de6eb90cad2d707b0</td>\n",
       "      <td>Skydeck</td>\n",
       "      <td>9.0</td>\n",
       "      <td>2012</td>\n",
       "      <td>web</td>\n",
       "      <td>52cdef7c4bab8bd675298509</td>\n",
       "      <td>4000000.0</td>\n",
       "      <td>Palo Alto</td>\n",
       "      <td>USA</td>\n",
       "      <td>37.564538</td>\n",
       "      <td>-122.325470</td>\n",
       "      <td>{'type': 'Point', 'coordinates': [-122.3254705...</td>\n",
       "      <td>2</td>\n",
       "    </tr>\n",
       "    <tr>\n",
       "      <th>4</th>\n",
       "      <td>5e049e9de6eb90cad2d707b1</td>\n",
       "      <td>PeekYou</td>\n",
       "      <td>20.0</td>\n",
       "      <td>2012</td>\n",
       "      <td>web</td>\n",
       "      <td>52cdef7c4bab8bd675297f94</td>\n",
       "      <td>1830000.0</td>\n",
       "      <td>New York</td>\n",
       "      <td>USA</td>\n",
       "      <td>40.757929</td>\n",
       "      <td>-73.985506</td>\n",
       "      <td>{'type': 'Point', 'coordinates': [-73.985506, ...</td>\n",
       "      <td>6</td>\n",
       "    </tr>\n",
       "    <tr>\n",
       "      <th>9</th>\n",
       "      <td>5e049e9de6eb90cad2d707b7</td>\n",
       "      <td>Inuvo</td>\n",
       "      <td>50.0</td>\n",
       "      <td>2009</td>\n",
       "      <td>web</td>\n",
       "      <td>52cdef7d4bab8bd67529980b</td>\n",
       "      <td>4200000.0</td>\n",
       "      <td>Clearwater</td>\n",
       "      <td>USA</td>\n",
       "      <td>27.913011</td>\n",
       "      <td>-82.702449</td>\n",
       "      <td>{'type': 'Point', 'coordinates': [-82.702449, ...</td>\n",
       "      <td>2</td>\n",
       "    </tr>\n",
       "  </tbody>\n",
       "</table>\n",
       "</div>"
      ],
      "text/plain": [
       "                        _id                   name  employees  year category  \\\n",
       "0  5e049e9de6eb90cad2d707ad                  Fixya       30.0  2013      web   \n",
       "2  5e049e9de6eb90cad2d707af  Social Gaming Network      100.0  2011      web   \n",
       "3  5e049e9de6eb90cad2d707b0                Skydeck        9.0  2012      web   \n",
       "4  5e049e9de6eb90cad2d707b1                PeekYou       20.0  2012      web   \n",
       "9  5e049e9de6eb90cad2d707b7                  Inuvo       50.0  2009      web   \n",
       "\n",
       "                         id  money_raised         city country   latitude  \\\n",
       "0  52cdef7c4bab8bd675297fec     8000000.0    San Mateo     USA  37.566879   \n",
       "2  52cdef7c4bab8bd67529831a    17100000.0  Los Angeles     USA  37.446823   \n",
       "3  52cdef7c4bab8bd675298509     4000000.0    Palo Alto     USA  37.564538   \n",
       "4  52cdef7c4bab8bd675297f94     1830000.0     New York     USA  40.757929   \n",
       "9  52cdef7d4bab8bd67529980b     4200000.0   Clearwater     USA  27.913011   \n",
       "\n",
       "    longitude                                        coordinates  \\\n",
       "0 -122.323895  {'type': 'Point', 'coordinates': [-122.323895,...   \n",
       "2 -122.161523  {'type': 'Point', 'coordinates': [-122.161523,...   \n",
       "3 -122.325470  {'type': 'Point', 'coordinates': [-122.3254705...   \n",
       "4  -73.985506  {'type': 'Point', 'coordinates': [-73.985506, ...   \n",
       "9  -82.702449  {'type': 'Point', 'coordinates': [-82.702449, ...   \n",
       "\n",
       "   number offices near  \n",
       "0                    2  \n",
       "2                    3  \n",
       "3                    2  \n",
       "4                    6  \n",
       "9                    2  "
      ]
     },
     "execution_count": 114,
     "metadata": {},
     "output_type": "execute_result"
    }
   ],
   "source": [
    "data_companies.head()"
   ]
  },
  {
   "cell_type": "code",
   "execution_count": 10,
   "metadata": {},
   "outputs": [],
   "source": [
    "geo = []\n",
    "for coords in data_companies['coordinates']:\n",
    "    geo.append(coords['coordinates'])"
   ]
  },
  {
   "cell_type": "code",
   "execution_count": 12,
   "metadata": {},
   "outputs": [],
   "source": [
    " # Latitud 37\n",
    "# Longitud -122"
   ]
  },
  {
   "cell_type": "code",
   "execution_count": 15,
   "metadata": {},
   "outputs": [],
   "source": [
    "def getNearby(lat,lng,query,radius):\n",
    "        CLIENT_ID = os.getenv(\"client_id\")\n",
    "        CLIENT_SECRET = os.getenv(\"client_secret\")\n",
    "        url = 'https://api.foursquare.com/v2/venues/explore'\n",
    "        queryParams = dict(\n",
    "            client_id=CLIENT_ID,\n",
    "            client_secret=CLIENT_SECRET,\n",
    "            v='20181023', # DONDE ESTOY\n",
    "            ll=f\"{lat},{lng}\", #QUE QUIERO\n",
    "            query=query, # A QUE DISTANCIA\n",
    "            radius=radius\n",
    "        )\n",
    "        res = requests.get(url, params=queryParams)\n",
    "        return res.json()\n",
    "  "
   ]
  },
  {
   "cell_type": "code",
   "execution_count": 116,
   "metadata": {},
   "outputs": [
    {
     "data": {
      "text/plain": [
       "'p = []\\nfor coord in geo:\\n    for place, value in places.items():\\n        try:\\n            request = (getNearby(coord[1],coord[0],value[\\'api\\'],value[\\'distance\\']))\\n            p.append(request)\\n        except:\\n            Exception: f\"Ha habido problemas con {place}\"\\np'"
      ]
     },
     "execution_count": 116,
     "metadata": {},
     "output_type": "execute_result"
    }
   ],
   "source": [
    "# Lo comento porque al hacer Run, no quiero volver a hacer las requests\n",
    "\"\"\"p = []\n",
    "for coord in geo:\n",
    "    for place, value in places.items():\n",
    "        try:\n",
    "            request = (getNearby(coord[1],coord[0],value['api'],value['distance']))\n",
    "            p.append(request)\n",
    "        except:\n",
    "            Exception: f\"Ha habido problemas con {place}\"\n",
    "p\"\"\""
   ]
  },
  {
   "cell_type": "code",
   "execution_count": 94,
   "metadata": {},
   "outputs": [
    {
     "data": {
      "text/plain": [
       "'San Mateo'"
      ]
     },
     "execution_count": 94,
     "metadata": {},
     "output_type": "execute_result"
    }
   ],
   "source": [
    "p[0]['response'][\"groups\"][0][\"items\"][0]['venue']['location']['city']"
   ]
  },
  {
   "cell_type": "code",
   "execution_count": 95,
   "metadata": {},
   "outputs": [],
   "source": [
    "def curateResponse(data):\n",
    "    places = []\n",
    "    for item in data:\n",
    "        for i in item[\"response\"][\"groups\"][0][\"items\"]:\n",
    "            places.append({\n",
    "                \"type\": i[\"venue\"]['categories'][0]['name'],\n",
    "                \"country\": i[\"venue\"]['location']['country'],\n",
    "                #\"city\": i[\"venue\"]['location']['city'],\n",
    "                \"name\":i[\"venue\"]['name'],\n",
    "                \"distance\": i[\"venue\"]['location'][\"distance\"],\n",
    "                \"coordinates\": {\n",
    "                \"type\":\"Point\",\n",
    "                \"coordinates\":[i[\"venue\"]['location'][\"lng\"], i[\"venue\"]['location'][\"lat\"]]\n",
    "                    }})\n",
    "    return places"
   ]
  },
  {
   "cell_type": "code",
   "execution_count": 96,
   "metadata": {},
   "outputs": [],
   "source": [
    "df = pd.DataFrame(curateResponse(p))"
   ]
  },
  {
   "cell_type": "code",
   "execution_count": 97,
   "metadata": {},
   "outputs": [
    {
     "data": {
      "text/plain": [
       "array(['Coffee Shop', 'Airport', 'Airport Lounge', 'Airport Terminal',\n",
       "       'Rental Car Location', 'Plane', 'Airport Gate', 'Music School',\n",
       "       'Gym', 'Bar', 'Toy / Game Store', 'Grocery Store',\n",
       "       'German Restaurant', 'Japanese Restaurant', 'Wine Bar',\n",
       "       'Supermarket', 'Ramen Restaurant', 'Sushi Restaurant',\n",
       "       'Burmese Restaurant', 'Taxi', 'Building', 'Airport Service',\n",
       "       'Travel Agency', 'Pizza Place', 'Cajun / Creole Restaurant',\n",
       "       'Chinese Restaurant', 'Mexican Restaurant', 'Sports Bar',\n",
       "       'Israeli Restaurant', 'Cycle Studio', 'Italian Restaurant',\n",
       "       'American Restaurant', 'Caribbean Restaurant',\n",
       "       'Brazilian Restaurant', 'Nightclub', 'Bakery', 'Hotel',\n",
       "       'Arts & Crafts Store', 'Transportation Service', 'Theater',\n",
       "       'Jazz Club', 'Strip Club', 'Theme Restaurant', 'Plaza', 'Gay Bar',\n",
       "       'Cuban Restaurant', 'New American Restaurant',\n",
       "       'Performing Arts Venue', 'Lounge', 'Diner', 'Burger Joint', 'Pub',\n",
       "       'Bowling Alley', 'Parking', 'Café', 'Bus Stop', 'Steakhouse',\n",
       "       'Gym / Fitness Center', 'Art Gallery', 'General Entertainment',\n",
       "       'Music Venue', 'Art Museum', 'Dive Bar', 'Museum',\n",
       "       'French Restaurant', 'Brewery', 'Cocktail Bar', 'Vineyard',\n",
       "       'Roof Deck', 'Cosmetics Shop', 'Korean Restaurant',\n",
       "       'English Restaurant', 'Lawyer', 'Office', 'Government Building',\n",
       "       'General Travel', 'Botanical Garden', 'Beer Bar', 'Breakfast Spot',\n",
       "       'Portuguese Restaurant', 'Gastropub', 'Burrito Place',\n",
       "       'Dance Studio', 'Karaoke Bar', 'Park', 'Speakeasy',\n",
       "       'Thai Restaurant', 'Gift Shop', 'BBQ Joint', 'Restaurant',\n",
       "       'Indian Restaurant', 'Historic Site', 'Street Food Gathering',\n",
       "       'Malay Restaurant', 'Hotel Bar', 'Mediterranean Restaurant',\n",
       "       'Hookah Bar', 'High School', 'School', 'Event Space',\n",
       "       'Miscellaneous Shop', 'Pedestrian Plaza', 'Cupcake Shop',\n",
       "       'Wine Shop', 'Sandwich Place', 'Pier', 'Scenic Lookout',\n",
       "       'Bagel Shop', 'Rock Club', 'Taiwanese Restaurant',\n",
       "       'Asian Restaurant', 'Taco Place', 'Dessert Shop',\n",
       "       'Seafood Restaurant', 'Resort', 'Bookstore', 'Motel', 'Shoe Store',\n",
       "       'Social Club', 'College Theater', 'State / Provincial Park',\n",
       "       'Trade School', 'Tiki Bar', 'Southern / Soul Food Restaurant',\n",
       "       'Comic Shop', 'Boutique', 'Chocolate Shop', 'Martial Arts Dojo',\n",
       "       'Dutch Restaurant', 'Salon / Barbershop', 'College Arts Building',\n",
       "       'Spanish Restaurant', 'Club House', 'Tea Room'], dtype=object)"
      ]
     },
     "execution_count": 97,
     "metadata": {},
     "output_type": "execute_result"
    }
   ],
   "source": [
    "df.type.unique()"
   ]
  },
  {
   "cell_type": "code",
   "execution_count": 98,
   "metadata": {},
   "outputs": [
    {
     "data": {
      "text/plain": [
       "Coffee Shop         424\n",
       "Airport Terminal    306\n",
       "Airport             112\n",
       "Airport Gate         80\n",
       "Bar                  53\n",
       "Name: type, dtype: int64"
      ]
     },
     "execution_count": 98,
     "metadata": {},
     "output_type": "execute_result"
    }
   ],
   "source": [
    "df.type.value_counts().head()"
   ]
  },
  {
   "cell_type": "code",
   "execution_count": 99,
   "metadata": {},
   "outputs": [],
   "source": [
    "# Vamos a organizar los datos, y solo nos quedaremos en la columna 'type' con los valores \n",
    "# del diccionario <groups> \n",
    "groups= {\n",
    "    \"Coffee Shop\": 'Coffee Shop',\n",
    "    \"Airport\": 'Airport',\n",
    "    \"Bar\": [\"Bar\",\"Nightcub\",\"Cocktail Bar\",\"Pub\",\"Karaoke Bar\"],\n",
    "    \"School\":[ \"School\",\"High School\"]\n",
    "}\n",
    "def chooseCat(prod):\n",
    "    for groupName, groupItems in groups.items():\n",
    "        if prod in groupItems:\n",
    "            return groupName\n",
    "    return \"OTHER\""
   ]
  },
  {
   "cell_type": "code",
   "execution_count": 100,
   "metadata": {},
   "outputs": [],
   "source": [
    "df[\"category\"] = df.type.apply(chooseCat)"
   ]
  },
  {
   "cell_type": "code",
   "execution_count": 101,
   "metadata": {},
   "outputs": [
    {
     "data": {
      "text/plain": [
       "OTHER          911\n",
       "Coffee Shop    424\n",
       "Airport        112\n",
       "Bar             94\n",
       "School           4\n",
       "Name: category, dtype: int64"
      ]
     },
     "execution_count": 101,
     "metadata": {},
     "output_type": "execute_result"
    }
   ],
   "source": [
    "df.category.value_counts()"
   ]
  },
  {
   "cell_type": "code",
   "execution_count": 102,
   "metadata": {},
   "outputs": [],
   "source": [
    "df = df[df.category != 'OTHER']"
   ]
  },
  {
   "cell_type": "code",
   "execution_count": 103,
   "metadata": {},
   "outputs": [],
   "source": [
    "data = df.reset_index(drop=True)"
   ]
  },
  {
   "cell_type": "code",
   "execution_count": 48,
   "metadata": {},
   "outputs": [],
   "source": [
    "import json\n",
    "data.to_json('./queries.json', orient='records',default_handler=str)"
   ]
  },
  {
   "cell_type": "code",
   "execution_count": 105,
   "metadata": {},
   "outputs": [
    {
     "name": "stderr",
     "output_type": "stream",
     "text": [
      "/usr/lib/python3/dist-packages/ipykernel_launcher.py:2: FutureWarning: Sorting because non-concatenation axis is not aligned. A future version\n",
      "of pandas will change to not sort by default.\n",
      "\n",
      "To accept the future behavior, pass 'sort=False'.\n",
      "\n",
      "To retain the current behavior and silence the warning, pass 'sort=True'.\n",
      "\n",
      "  \n"
     ]
    }
   ],
   "source": [
    "# Voy a intentar unir los dos DF: el de las compañias y el de las quieries:\n",
    "result = pd.concat([data_companies, data])"
   ]
  },
  {
   "cell_type": "code",
   "execution_count": 107,
   "metadata": {},
   "outputs": [
    {
     "data": {
      "text/plain": [
       "array(['USA', 'SWE', 'GBR', 'NLD', 'United States', 'Sverige',\n",
       "       'United Kingdom', 'Nederland'], dtype=object)"
      ]
     },
     "execution_count": 107,
     "metadata": {},
     "output_type": "execute_result"
    }
   ],
   "source": [
    "result.country.unique()"
   ]
  },
  {
   "cell_type": "code",
   "execution_count": 109,
   "metadata": {},
   "outputs": [],
   "source": [
    "result.loc[(result['country']== 'United States'), 'country'] = 'USA'\n",
    "result.loc[(result['country']== 'Sverige'), 'country'] = 'SWE'\n",
    "result.loc[(result['country']== 'United Kingdom'), 'country']  = 'GBR'\n",
    "result.loc[(result['country']== 'Nederland'), 'country']  = 'NLD'\n"
   ]
  },
  {
   "cell_type": "code",
   "execution_count": 110,
   "metadata": {},
   "outputs": [
    {
     "data": {
      "text/plain": [
       "array(['USA', 'SWE', 'GBR', 'NLD'], dtype=object)"
      ]
     },
     "execution_count": 110,
     "metadata": {},
     "output_type": "execute_result"
    }
   ],
   "source": [
    "result.country.unique()"
   ]
  },
  {
   "cell_type": "code",
   "execution_count": 111,
   "metadata": {},
   "outputs": [],
   "source": [
    "new_data = result[[\"coordinates\", \"country\", \"category\", \"name\"]]"
   ]
  },
  {
   "cell_type": "code",
   "execution_count": 113,
   "metadata": {},
   "outputs": [
    {
     "data": {
      "text/html": [
       "<div>\n",
       "<style scoped>\n",
       "    .dataframe tbody tr th:only-of-type {\n",
       "        vertical-align: middle;\n",
       "    }\n",
       "\n",
       "    .dataframe tbody tr th {\n",
       "        vertical-align: top;\n",
       "    }\n",
       "\n",
       "    .dataframe thead th {\n",
       "        text-align: right;\n",
       "    }\n",
       "</style>\n",
       "<table border=\"1\" class=\"dataframe\">\n",
       "  <thead>\n",
       "    <tr style=\"text-align: right;\">\n",
       "      <th></th>\n",
       "      <th>coordinates</th>\n",
       "      <th>country</th>\n",
       "      <th>category</th>\n",
       "      <th>name</th>\n",
       "    </tr>\n",
       "  </thead>\n",
       "  <tbody>\n",
       "    <tr>\n",
       "      <th>0</th>\n",
       "      <td>{'type': 'Point', 'coordinates': [-122.323895,...</td>\n",
       "      <td>USA</td>\n",
       "      <td>web</td>\n",
       "      <td>Fixya</td>\n",
       "    </tr>\n",
       "    <tr>\n",
       "      <th>2</th>\n",
       "      <td>{'type': 'Point', 'coordinates': [-122.161523,...</td>\n",
       "      <td>USA</td>\n",
       "      <td>web</td>\n",
       "      <td>Social Gaming Network</td>\n",
       "    </tr>\n",
       "    <tr>\n",
       "      <th>3</th>\n",
       "      <td>{'type': 'Point', 'coordinates': [-122.3254705...</td>\n",
       "      <td>USA</td>\n",
       "      <td>web</td>\n",
       "      <td>Skydeck</td>\n",
       "    </tr>\n",
       "    <tr>\n",
       "      <th>4</th>\n",
       "      <td>{'type': 'Point', 'coordinates': [-73.985506, ...</td>\n",
       "      <td>USA</td>\n",
       "      <td>web</td>\n",
       "      <td>PeekYou</td>\n",
       "    </tr>\n",
       "    <tr>\n",
       "      <th>9</th>\n",
       "      <td>{'type': 'Point', 'coordinates': [-82.702449, ...</td>\n",
       "      <td>USA</td>\n",
       "      <td>web</td>\n",
       "      <td>Inuvo</td>\n",
       "    </tr>\n",
       "    <tr>\n",
       "      <th>...</th>\n",
       "      <td>...</td>\n",
       "      <td>...</td>\n",
       "      <td>...</td>\n",
       "      <td>...</td>\n",
       "    </tr>\n",
       "    <tr>\n",
       "      <th>619</th>\n",
       "      <td>{'type': 'Point', 'coordinates': [-74.00172, 4...</td>\n",
       "      <td>USA</td>\n",
       "      <td>Coffee Shop</td>\n",
       "      <td>Starbucks</td>\n",
       "    </tr>\n",
       "    <tr>\n",
       "      <th>620</th>\n",
       "      <td>{'type': 'Point', 'coordinates': [-74.00034, 4...</td>\n",
       "      <td>USA</td>\n",
       "      <td>Coffee Shop</td>\n",
       "      <td>Starbucks</td>\n",
       "    </tr>\n",
       "    <tr>\n",
       "      <th>621</th>\n",
       "      <td>{'type': 'Point', 'coordinates': [-74.00261, 4...</td>\n",
       "      <td>USA</td>\n",
       "      <td>Coffee Shop</td>\n",
       "      <td>Starbucks</td>\n",
       "    </tr>\n",
       "    <tr>\n",
       "      <th>622</th>\n",
       "      <td>{'type': 'Point', 'coordinates': [-73.999567, ...</td>\n",
       "      <td>USA</td>\n",
       "      <td>Coffee Shop</td>\n",
       "      <td>Starbucks</td>\n",
       "    </tr>\n",
       "    <tr>\n",
       "      <th>623</th>\n",
       "      <td>{'type': 'Point', 'coordinates': [-74.00293, 4...</td>\n",
       "      <td>USA</td>\n",
       "      <td>Coffee Shop</td>\n",
       "      <td>Starbucks</td>\n",
       "    </tr>\n",
       "  </tbody>\n",
       "</table>\n",
       "<p>646 rows × 4 columns</p>\n",
       "</div>"
      ],
      "text/plain": [
       "                                           coordinates country     category  \\\n",
       "0    {'type': 'Point', 'coordinates': [-122.323895,...     USA          web   \n",
       "2    {'type': 'Point', 'coordinates': [-122.161523,...     USA          web   \n",
       "3    {'type': 'Point', 'coordinates': [-122.3254705...     USA          web   \n",
       "4    {'type': 'Point', 'coordinates': [-73.985506, ...     USA          web   \n",
       "9    {'type': 'Point', 'coordinates': [-82.702449, ...     USA          web   \n",
       "..                                                 ...     ...          ...   \n",
       "619  {'type': 'Point', 'coordinates': [-74.00172, 4...     USA  Coffee Shop   \n",
       "620  {'type': 'Point', 'coordinates': [-74.00034, 4...     USA  Coffee Shop   \n",
       "621  {'type': 'Point', 'coordinates': [-74.00261, 4...     USA  Coffee Shop   \n",
       "622  {'type': 'Point', 'coordinates': [-73.999567, ...     USA  Coffee Shop   \n",
       "623  {'type': 'Point', 'coordinates': [-74.00293, 4...     USA  Coffee Shop   \n",
       "\n",
       "                      name  \n",
       "0                    Fixya  \n",
       "2    Social Gaming Network  \n",
       "3                  Skydeck  \n",
       "4                  PeekYou  \n",
       "9                    Inuvo  \n",
       "..                     ...  \n",
       "619              Starbucks  \n",
       "620              Starbucks  \n",
       "621              Starbucks  \n",
       "622              Starbucks  \n",
       "623              Starbucks  \n",
       "\n",
       "[646 rows x 4 columns]"
      ]
     },
     "execution_count": 113,
     "metadata": {},
     "output_type": "execute_result"
    }
   ],
   "source": [
    "new_data.head(-10)"
   ]
  },
  {
   "cell_type": "code",
   "execution_count": 115,
   "metadata": {},
   "outputs": [],
   "source": [
    "new_data.to_json('./companies_and_queries.json', orient='records',default_handler=str)"
   ]
  }
 ],
 "metadata": {
  "kernelspec": {
   "display_name": "Python 3",
   "language": "python",
   "name": "python3"
  },
  "language_info": {
   "codemirror_mode": {
    "name": "ipython",
    "version": 3
   },
   "file_extension": ".py",
   "mimetype": "text/x-python",
   "name": "python",
   "nbconvert_exporter": "python",
   "pygments_lexer": "ipython3",
   "version": "3.7.5"
  }
 },
 "nbformat": 4,
 "nbformat_minor": 2
}
