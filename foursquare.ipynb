{
 "cells": [
  {
   "cell_type": "code",
   "execution_count": 38,
   "metadata": {},
   "outputs": [],
   "source": [
    "from src.constants import places\n",
    "import requests\n",
    "import pprint\n",
    "import re\n",
    "from dotenv import load_dotenv\n",
    "load_dotenv()\n",
    "import pandas as pd\n",
    "import os\n",
    "import json"
   ]
  },
  {
   "cell_type": "code",
   "execution_count": 40,
   "metadata": {},
   "outputs": [],
   "source": [
    "from pymongo import MongoClient\n",
    "\n",
    "client = MongoClient()\n",
    "\n",
    "def connectCollection(database, collection):\n",
    "    ''' return collection from db crunchbase'''\n",
    "    db = client[database]\n",
    "    coll = db[collection]\n",
    "    return db, coll"
   ]
  },
  {
   "cell_type": "code",
   "execution_count": 41,
   "metadata": {},
   "outputs": [],
   "source": [
    "db, coll = connectCollection('dbcompanies','companies_clean')"
   ]
  },
  {
   "cell_type": "code",
   "execution_count": 42,
   "metadata": {},
   "outputs": [],
   "source": [
    "companies = db.companies_clean.find({ \n",
    "    \"money_raised\":{\n",
    "        \"$gte\": 1000000\n",
    "    }}) "
   ]
  },
  {
   "cell_type": "code",
   "execution_count": 43,
   "metadata": {},
   "outputs": [],
   "source": [
    "data_companies = pd.DataFrame(companies)"
   ]
  },
  {
   "cell_type": "code",
   "execution_count": 44,
   "metadata": {},
   "outputs": [],
   "source": [
    "geo_point = []\n",
    "for loc in range(len(data_companies)):\n",
    "    geo_point.append(data_companies.coordinates[loc])  "
   ]
  },
  {
   "cell_type": "code",
   "execution_count": 45,
   "metadata": {},
   "outputs": [],
   "source": [
    "def near(geo_point, radio_meters):\n",
    "        geopoint = geo_point\n",
    "        return list(db.companies_clean.find({\n",
    "        \"coordinates.coordinates\": {\n",
    "         \"$near\": {\n",
    "             \"$geometry\": geopoint,\n",
    "             \"$maxDistance\": radio_meters\n",
    "         }}})) \n",
    "\n",
    "radio_meters = 5000\n",
    "list_number_offices = []\n",
    "list_offices=[]\n",
    "for i in range(len(data_companies)):\n",
    "    num_offices =  near(geo_point[i], radio_meters)\n",
    "    list_offices.append(num_offices)\n",
    "    list_number_offices.append(len(num_offices))\n",
    "data_companies['number offices near'] = list_number_offices"
   ]
  },
  {
   "cell_type": "code",
   "execution_count": 46,
   "metadata": {},
   "outputs": [],
   "source": [
    "data_companies = data_companies[data_companies['number offices near'] > 1]"
   ]
  },
  {
   "cell_type": "code",
   "execution_count": 47,
   "metadata": {},
   "outputs": [
    {
     "data": {
      "text/plain": [
       "(26, 13)"
      ]
     },
     "execution_count": 47,
     "metadata": {},
     "output_type": "execute_result"
    }
   ],
   "source": [
    "data_companies.shape"
   ]
  },
  {
   "cell_type": "code",
   "execution_count": 11,
   "metadata": {},
   "outputs": [],
   "source": [
    "geo = []\n",
    "for coords in data_companies['coordinates']:\n",
    "    geo.append(coords['coordinates'])"
   ]
  },
  {
   "cell_type": "code",
   "execution_count": 12,
   "metadata": {},
   "outputs": [],
   "source": [
    "def getNearby(lat,lng,query,radius):\n",
    "        CLIENT_ID = os.getenv(\"client_id\")\n",
    "        CLIENT_SECRET = os.getenv(\"client_secret\")\n",
    "        url = 'https://api.foursquare.com/v2/venues/explore'\n",
    "        queryParams = dict(\n",
    "            client_id=CLIENT_ID,\n",
    "            client_secret=CLIENT_SECRET,\n",
    "            v='20181023', # DONDE ESTOY\n",
    "            ll=f\"{lat},{lng}\", #QUE QUIERO\n",
    "            query=query, # A QUE DISTANCIA\n",
    "            radius=radius\n",
    "        )\n",
    "        res = requests.get(url, params=queryParams)\n",
    "        return res.json()\n",
    "  "
   ]
  },
  {
   "cell_type": "code",
   "execution_count": 13,
   "metadata": {},
   "outputs": [],
   "source": [
    "for coord in geo:\n",
    "    for place, value in places.items():\n",
    "        try:\n",
    "            request = (getNearby(coord[1],coord[0],value['api'],value['distance']))\n",
    "        except:\n",
    "            Exception: \"Ha habido problemas con este {}\".formate(place)\n",
    "        "
   ]
  },
  {
   "cell_type": "code",
   "execution_count": 20,
   "metadata": {},
   "outputs": [],
   "source": [
    "def curateResponse(data):\n",
    "    places = []\n",
    "    for item in data[\"response\"][\"groups\"][0][\"items\"]:\n",
    "        places.append({\n",
    "            \"type\": item[\"venue\"]['categories'][0]['name'],\n",
    "            \"name\":item[\"venue\"]['name'],\n",
    "            \"address\":item[\"venue\"]['location'],\n",
    "            \"distance\": item[\"venue\"]['location'][\"distance\"],\n",
    "            \"coordinates\": {\n",
    "            \"type\":\"Point\",\n",
    "            \"coordinates\":[item[\"venue\"]['location'][\"lng\"], item[\"venue\"]['location'][\"lat\"]]\n",
    "                }})\n",
    "    return places"
   ]
  },
  {
   "cell_type": "code",
   "execution_count": 21,
   "metadata": {},
   "outputs": [],
   "source": [
    "df = pd.DataFrame(curateResponse(request))"
   ]
  },
  {
   "cell_type": "code",
   "execution_count": 26,
   "metadata": {},
   "outputs": [],
   "source": [
    "with open ('requests.txt','r+')as f:\n",
    "    data =  f.readlines()"
   ]
  },
  {
   "cell_type": "code",
   "execution_count": 36,
   "metadata": {},
   "outputs": [
    {
     "data": {
      "text/plain": [
       "145"
      ]
     },
     "execution_count": 36,
     "metadata": {},
     "output_type": "execute_result"
    }
   ],
   "source": [
    "len(data)"
   ]
  }
 ],
 "metadata": {
  "kernelspec": {
   "display_name": "Python 3",
   "language": "python",
   "name": "python3"
  },
  "language_info": {
   "codemirror_mode": {
    "name": "ipython",
    "version": 3
   },
   "file_extension": ".py",
   "mimetype": "text/x-python",
   "name": "python",
   "nbconvert_exporter": "python",
   "pygments_lexer": "ipython3",
   "version": "3.7.5"
  }
 },
 "nbformat": 4,
 "nbformat_minor": 2
}
