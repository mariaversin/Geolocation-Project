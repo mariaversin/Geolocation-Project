{
 "cells": [
  {
   "cell_type": "markdown",
   "metadata": {},
   "source": [
    "# API ---->  FOURSQUARE\n",
    "Hacer requests de:\n",
    "    - Starbucks\n",
    "    - Airports\n",
    "    - Schools\n",
    "    - Bar\n",
    "    - Vegan"
   ]
  },
  {
   "cell_type": "code",
   "execution_count": 1,
   "metadata": {},
   "outputs": [],
   "source": [
    "from src.constants import places\n",
    "import requests\n",
    "import pprint\n",
    "import re\n",
    "from dotenv import load_dotenv\n",
    "load_dotenv()\n",
    "import pandas as pd\n",
    "import os\n",
    "import json\n",
    "import numpy as np"
   ]
  },
  {
   "cell_type": "code",
   "execution_count": 2,
   "metadata": {},
   "outputs": [],
   "source": [
    "from pymongo import MongoClient\n",
    "\n",
    "client = MongoClient()\n",
    "\n",
    "def connectCollection(database, collection):\n",
    "    ''' return collection from db crunchbase'''\n",
    "    db = client[database]\n",
    "    coll = db[collection]\n",
    "    return db, coll"
   ]
  },
  {
   "cell_type": "code",
   "execution_count": 3,
   "metadata": {},
   "outputs": [],
   "source": [
    "db, coll = connectCollection('companies','companies_clean')"
   ]
  },
  {
   "cell_type": "code",
   "execution_count": 5,
   "metadata": {},
   "outputs": [],
   "source": [
    "companies = db.companies_clean.find({ \n",
    "    \"money_raised\":{\n",
    "        \"$gte\": 1000000\n",
    "    }}) "
   ]
  },
  {
   "cell_type": "code",
   "execution_count": 6,
   "metadata": {},
   "outputs": [],
   "source": [
    "data_companies = pd.DataFrame(companies)"
   ]
  },
  {
   "cell_type": "code",
   "execution_count": 7,
   "metadata": {},
   "outputs": [],
   "source": [
    "geo_point = []\n",
    "for loc in range(len(data_companies)):\n",
    "    geo_point.append(data_companies.coordinates[loc])  "
   ]
  },
  {
   "cell_type": "code",
   "execution_count": 90,
   "metadata": {},
   "outputs": [],
   "source": [
    "def near(geo_point, radio_meters=3000):\n",
    "        geopoint = geo_point\n",
    "        \n",
    "        return list(db.companies_clean.find({\n",
    "        \"coordinates.coordinates\": {\n",
    "         \"$near\": {\n",
    "             \"$geometry\": geopoint,\n",
    "             \"$maxDistance\": radio_meters\n",
    "         }}})) \n",
    "\n",
    "def numberOffices(data_companies):\n",
    "    number_offices = []\n",
    "    list_offices=[]\n",
    "    for i in range(len(data_companies)):\n",
    "        num_offices =  near(geo_point[i], radio_meters)\n",
    "        list_offices.append(num_offices)\n",
    "        number_offices.append(len(num_offices))\n",
    "    data_companies['number offices near'] = number_offices\n",
    "    return data_companies"
   ]
  },
  {
   "cell_type": "code",
   "execution_count": 91,
   "metadata": {},
   "outputs": [],
   "source": [
    "data_companies = numberOffices(data_companies)"
   ]
  },
  {
   "cell_type": "code",
   "execution_count": 95,
   "metadata": {},
   "outputs": [],
   "source": [
    "data = data_companies[data_companies['number offices near'] > 1]"
   ]
  },
  {
   "cell_type": "code",
   "execution_count": 96,
   "metadata": {},
   "outputs": [
    {
     "data": {
      "text/html": [
       "<div>\n",
       "<style scoped>\n",
       "    .dataframe tbody tr th:only-of-type {\n",
       "        vertical-align: middle;\n",
       "    }\n",
       "\n",
       "    .dataframe tbody tr th {\n",
       "        vertical-align: top;\n",
       "    }\n",
       "\n",
       "    .dataframe thead th {\n",
       "        text-align: right;\n",
       "    }\n",
       "</style>\n",
       "<table border=\"1\" class=\"dataframe\">\n",
       "  <thead>\n",
       "    <tr style=\"text-align: right;\">\n",
       "      <th></th>\n",
       "      <th>_id</th>\n",
       "      <th>name</th>\n",
       "      <th>employees</th>\n",
       "      <th>year</th>\n",
       "      <th>category</th>\n",
       "      <th>id</th>\n",
       "      <th>money_raised</th>\n",
       "      <th>city</th>\n",
       "      <th>country</th>\n",
       "      <th>latitude</th>\n",
       "      <th>longitude</th>\n",
       "      <th>coordinates</th>\n",
       "      <th>number offices near</th>\n",
       "    </tr>\n",
       "  </thead>\n",
       "  <tbody>\n",
       "    <tr>\n",
       "      <th>0</th>\n",
       "      <td>5e3148a26301037b54495dbc</td>\n",
       "      <td>Social Gaming Network</td>\n",
       "      <td>100.0</td>\n",
       "      <td>2011</td>\n",
       "      <td>web</td>\n",
       "      <td>52cdef7c4bab8bd67529831a</td>\n",
       "      <td>17100000.0</td>\n",
       "      <td>Los Angeles</td>\n",
       "      <td>USA</td>\n",
       "      <td>37.446823</td>\n",
       "      <td>-122.161523</td>\n",
       "      <td>{'type': 'Point', 'coordinates': [-122.161523,...</td>\n",
       "      <td>3</td>\n",
       "    </tr>\n",
       "    <tr>\n",
       "      <th>1</th>\n",
       "      <td>5e3148a26301037b54495dbd</td>\n",
       "      <td>Fixya</td>\n",
       "      <td>30.0</td>\n",
       "      <td>2013</td>\n",
       "      <td>web</td>\n",
       "      <td>52cdef7c4bab8bd675297fec</td>\n",
       "      <td>8000000.0</td>\n",
       "      <td>San Mateo</td>\n",
       "      <td>USA</td>\n",
       "      <td>37.566879</td>\n",
       "      <td>-122.323895</td>\n",
       "      <td>{'type': 'Point', 'coordinates': [-122.323895,...</td>\n",
       "      <td>2</td>\n",
       "    </tr>\n",
       "    <tr>\n",
       "      <th>9</th>\n",
       "      <td>5e3148a26301037b54495dc6</td>\n",
       "      <td>Inuvo</td>\n",
       "      <td>50.0</td>\n",
       "      <td>2009</td>\n",
       "      <td>web</td>\n",
       "      <td>52cdef7d4bab8bd67529980b</td>\n",
       "      <td>4200000.0</td>\n",
       "      <td>Clearwater</td>\n",
       "      <td>USA</td>\n",
       "      <td>27.913011</td>\n",
       "      <td>-82.702449</td>\n",
       "      <td>{'type': 'Point', 'coordinates': [-82.702449, ...</td>\n",
       "      <td>6</td>\n",
       "    </tr>\n",
       "    <tr>\n",
       "      <th>10</th>\n",
       "      <td>5e3148a26301037b54495dc8</td>\n",
       "      <td>Burt</td>\n",
       "      <td>30.0</td>\n",
       "      <td>2009</td>\n",
       "      <td>web</td>\n",
       "      <td>52cdef7d4bab8bd6752996f5</td>\n",
       "      <td>3500000.0</td>\n",
       "      <td>Gothenburg</td>\n",
       "      <td>SWE</td>\n",
       "      <td>59.337864</td>\n",
       "      <td>18.036587</td>\n",
       "      <td>{'type': 'Point', 'coordinates': [18.036587, 5...</td>\n",
       "      <td>2</td>\n",
       "    </tr>\n",
       "    <tr>\n",
       "      <th>16</th>\n",
       "      <td>5e3148a26301037b54495dd0</td>\n",
       "      <td>Meez</td>\n",
       "      <td>21.0</td>\n",
       "      <td>2009</td>\n",
       "      <td>web</td>\n",
       "      <td>52cdef7e4bab8bd67529ac2f</td>\n",
       "      <td>10200000.0</td>\n",
       "      <td>San Francisco</td>\n",
       "      <td>USA</td>\n",
       "      <td>37.785271</td>\n",
       "      <td>-122.397582</td>\n",
       "      <td>{'type': 'Point', 'coordinates': [-122.397582,...</td>\n",
       "      <td>2</td>\n",
       "    </tr>\n",
       "  </tbody>\n",
       "</table>\n",
       "</div>"
      ],
      "text/plain": [
       "                         _id                   name  employees  year category  \\\n",
       "0   5e3148a26301037b54495dbc  Social Gaming Network      100.0  2011      web   \n",
       "1   5e3148a26301037b54495dbd                  Fixya       30.0  2013      web   \n",
       "9   5e3148a26301037b54495dc6                  Inuvo       50.0  2009      web   \n",
       "10  5e3148a26301037b54495dc8                   Burt       30.0  2009      web   \n",
       "16  5e3148a26301037b54495dd0                   Meez       21.0  2009      web   \n",
       "\n",
       "                          id  money_raised           city country   latitude  \\\n",
       "0   52cdef7c4bab8bd67529831a    17100000.0    Los Angeles     USA  37.446823   \n",
       "1   52cdef7c4bab8bd675297fec     8000000.0      San Mateo     USA  37.566879   \n",
       "9   52cdef7d4bab8bd67529980b     4200000.0     Clearwater     USA  27.913011   \n",
       "10  52cdef7d4bab8bd6752996f5     3500000.0     Gothenburg     SWE  59.337864   \n",
       "16  52cdef7e4bab8bd67529ac2f    10200000.0  San Francisco     USA  37.785271   \n",
       "\n",
       "     longitude                                        coordinates  \\\n",
       "0  -122.161523  {'type': 'Point', 'coordinates': [-122.161523,...   \n",
       "1  -122.323895  {'type': 'Point', 'coordinates': [-122.323895,...   \n",
       "9   -82.702449  {'type': 'Point', 'coordinates': [-82.702449, ...   \n",
       "10   18.036587  {'type': 'Point', 'coordinates': [18.036587, 5...   \n",
       "16 -122.397582  {'type': 'Point', 'coordinates': [-122.397582,...   \n",
       "\n",
       "    number offices near  \n",
       "0                     3  \n",
       "1                     2  \n",
       "9                     6  \n",
       "10                    2  \n",
       "16                    2  "
      ]
     },
     "execution_count": 96,
     "metadata": {},
     "output_type": "execute_result"
    }
   ],
   "source": [
    "data.head()"
   ]
  },
  {
   "cell_type": "code",
   "execution_count": 13,
   "metadata": {},
   "outputs": [
    {
     "data": {
      "text/plain": [
       "(22, 13)"
      ]
     },
     "execution_count": 13,
     "metadata": {},
     "output_type": "execute_result"
    }
   ],
   "source": [
    "data_companies.shape"
   ]
  },
  {
   "cell_type": "code",
   "execution_count": 56,
   "metadata": {},
   "outputs": [],
   "source": [
    "data_companies.to_json('./best_companies.json', orient='records',default_handler=str)"
   ]
  },
  {
   "cell_type": "code",
   "execution_count": 57,
   "metadata": {},
   "outputs": [],
   "source": [
    "data_companies.to_csv('./best_companies.csv') "
   ]
  },
  {
   "cell_type": "code",
   "execution_count": 14,
   "metadata": {},
   "outputs": [],
   "source": [
    "geo = []\n",
    "for coords in data_companies['coordinates']:\n",
    "    geo.append(coords['coordinates'])"
   ]
  },
  {
   "cell_type": "code",
   "execution_count": 59,
   "metadata": {},
   "outputs": [],
   "source": [
    " # Latitud 37\n",
    "# Longitud -122\n"
   ]
  },
  {
   "cell_type": "code",
   "execution_count": 15,
   "metadata": {},
   "outputs": [],
   "source": [
    "def getNearby(lat,lng,query,radius):\n",
    "    \"\"\" Function for queries \"\"\"\n",
    "    CLIENT_ID = os.getenv(\"client_id\")\n",
    "    CLIENT_SECRET = os.getenv(\"client_secret\")\n",
    "    url = 'https://api.foursquare.com/v2/venues/explore'\n",
    "    queryParams = dict(\n",
    "        client_id=CLIENT_ID,\n",
    "        client_secret=CLIENT_SECRET,\n",
    "        v='20181023', # DONDE ESTOY\n",
    "        ll=f\"{lat},{lng}\", #QUE QUIERO\n",
    "        query=query, # A QUE DISTANCIA\n",
    "        radius=radius,\n",
    "        limit = 25\n",
    "    )\n",
    "    res = requests.get(url, params=queryParams)\n",
    "    return res.json()\n",
    "  "
   ]
  },
  {
   "cell_type": "code",
   "execution_count": 176,
   "metadata": {},
   "outputs": [],
   "source": [
    "# QUERY ONLY FOR STOCKHOLM \n",
    "\n",
    "ams_coffee= getNearby(52.365758, 4.892872, \"starbucks\", 2000)"
   ]
  },
  {
   "cell_type": "code",
   "execution_count": 16,
   "metadata": {},
   "outputs": [
    {
     "name": "stdout",
     "output_type": "stream",
     "text": [
      "Ha ocurrido algún error.\n"
     ]
    }
   ],
   "source": [
    "ams = []\n",
    "\n",
    "try:\n",
    "    for i in ams_coffee[\"response\"][\"groups\"][0][\"items\"]:\n",
    "\n",
    "        if i[\"venue\"]['location']['city'] != None:\n",
    "            ams.append({\n",
    "                \"name\":i[\"venue\"]['name'],\n",
    "                \"distance\": i[\"venue\"]['location'][\"distance\"],\n",
    "                \"country\": i[\"venue\"]['location'][\"country\"],\n",
    "                \"city\": i[\"venue\"]['location']['city'],\n",
    "                \"latitude\": i[\"venue\"]['location'][\"lat\"],\n",
    "                \"longitude\": i[\"venue\"]['location'][\"lng\"],\n",
    "                \"coordinates\": {\n",
    "                \"type\":\"Point\",\n",
    "                \"coordinates\":[i[\"venue\"]['location'][\"lng\"], i[\"venue\"]['location'][\"lat\"]]\n",
    "                    }})\n",
    "except:\n",
    "    print(f\"Ha ocurrido algún error.\")\n"
   ]
  },
  {
   "cell_type": "code",
   "execution_count": 97,
   "metadata": {},
   "outputs": [],
   "source": [
    "#  Hacer las queries a todas las coordenadas\n",
    "p = []\n",
    "for coord in geo:\n",
    "    for place, value in places.items():\n",
    "        try:\n",
    "            request = (getNearby(coord[1],coord[0],value['api'],value['distance']))\n",
    "            p.append(request)\n",
    "        except:\n",
    "            Exception: f\"Ha habido problemas con {place}\"\n"
   ]
  },
  {
   "cell_type": "code",
   "execution_count": 98,
   "metadata": {},
   "outputs": [],
   "source": [
    "def curateResponse(data):\n",
    "    \"\"\" Function for clean request and clean errors \"\"\"\n",
    "    places = []\n",
    "    for item in data:\n",
    "        try:\n",
    "            for i in item[\"response\"][\"groups\"][0][\"items\"]:\n",
    "                if i[\"venue\"]['location']['city'] != None:\n",
    "                    places.append({\n",
    "                        \"name\":i[\"venue\"]['name'],\n",
    "                        \"distance\": i[\"venue\"]['location'][\"distance\"],\n",
    "                        \"country\": i[\"venue\"]['location'][\"country\"],\n",
    "                        \"city\": i[\"venue\"]['location']['city'],\n",
    "                        \"latitude\": i[\"venue\"]['location'][\"lat\"],\n",
    "                        \"longitude\": i[\"venue\"]['location'][\"lng\"],\n",
    "                        \"coordinates\": {\n",
    "                        \"type\":\"Point\",\n",
    "                        \"coordinates\":[i[\"venue\"]['location'][\"lng\"], i[\"venue\"]['location'][\"lat\"]]\n",
    "                            }})\n",
    "        except:\n",
    "            print(f\"Ha ocurrido algún error.\")\n",
    "    return places"
   ]
  },
  {
   "cell_type": "code",
   "execution_count": 99,
   "metadata": {},
   "outputs": [],
   "source": [
    "info = p+ams"
   ]
  },
  {
   "cell_type": "code",
   "execution_count": 61,
   "metadata": {},
   "outputs": [
    {
     "name": "stdout",
     "output_type": "stream",
     "text": [
      "Ha ocurrido algún error.\n",
      "Ha ocurrido algún error.\n",
      "Ha ocurrido algún error.\n",
      "Ha ocurrido algún error.\n",
      "Ha ocurrido algún error.\n",
      "Ha ocurrido algún error.\n",
      "Ha ocurrido algún error.\n",
      "Ha ocurrido algún error.\n",
      "Ha ocurrido algún error.\n",
      "Ha ocurrido algún error.\n",
      "Ha ocurrido algún error.\n",
      "Ha ocurrido algún error.\n",
      "Ha ocurrido algún error.\n",
      "Ha ocurrido algún error.\n",
      "Ha ocurrido algún error.\n",
      "Ha ocurrido algún error.\n",
      "Ha ocurrido algún error.\n",
      "Ha ocurrido algún error.\n"
     ]
    }
   ],
   "source": [
    "data = pd.DataFrame(curateResponse(info))"
   ]
  },
  {
   "cell_type": "code",
   "execution_count": 62,
   "metadata": {},
   "outputs": [
    {
     "data": {
      "text/plain": [
       "array(['Palo Alto', 'Menlo Park', 'East Palo Alto', 'Redwood City',\n",
       "       'Mountain View', 'Los Altos', 'San Carlos', 'Stanford',\n",
       "       'San Mateo', 'Burlingame', 'Foster City', 'Belmont', 'Millbrae',\n",
       "       'San Bruno', 'South San Francisco', 'San Francisco',\n",
       "       'Hillsborough', 'New York', 'East Elmhurst', 'Brooklyn', 'Queens',\n",
       "       'Elmhurst', 'Saint Petersburg', 'Largo', 'Clearwater',\n",
       "       'Safety Harbor', 'Pinellas Park', 'Belleair Bluffs', 'Tampa',\n",
       "       'Oldsmar', 'Palm Harbor', 'Stockholm', 'Bromma', 'Solna',\n",
       "       'Flushing', 'Long Island City', 'Alameda', 'West Palm Beach',\n",
       "       'Oakland', 'Greater London', 'London', 'Paddington', 'Victoria',\n",
       "       'Canary Wharf', 'Middlesex', 'stockport', 'Holborn', 'Clerkenwell',\n",
       "       'Islington', 'Jamaica', 'Secaucus', 'South Bank', 'Jersey City',\n",
       "       'Santa Monica', 'Los Angeles', 'Daly City', 'Amsterdam',\n",
       "       'Luchthaven Schiphol', 'Schiphol'], dtype=object)"
      ]
     },
     "execution_count": 62,
     "metadata": {},
     "output_type": "execute_result"
    }
   ],
   "source": [
    "data.city.unique()"
   ]
  },
  {
   "cell_type": "code",
   "execution_count": 63,
   "metadata": {},
   "outputs": [
    {
     "data": {
      "text/plain": [
       "Starbucks                            360\n",
       "sweetgreen                            13\n",
       "Juice Press                           11\n",
       "Abokado                               11\n",
       "British Airways Concorde (G-BOAD)      8\n",
       "Name: name, dtype: int64"
      ]
     },
     "execution_count": 63,
     "metadata": {},
     "output_type": "execute_result"
    }
   ],
   "source": [
    "data.name.value_counts().head()"
   ]
  },
  {
   "cell_type": "code",
   "execution_count": 64,
   "metadata": {},
   "outputs": [
    {
     "data": {
      "text/html": [
       "<div>\n",
       "<style scoped>\n",
       "    .dataframe tbody tr th:only-of-type {\n",
       "        vertical-align: middle;\n",
       "    }\n",
       "\n",
       "    .dataframe tbody tr th {\n",
       "        vertical-align: top;\n",
       "    }\n",
       "\n",
       "    .dataframe thead th {\n",
       "        text-align: right;\n",
       "    }\n",
       "</style>\n",
       "<table border=\"1\" class=\"dataframe\">\n",
       "  <thead>\n",
       "    <tr style=\"text-align: right;\">\n",
       "      <th></th>\n",
       "      <th>name</th>\n",
       "      <th>distance</th>\n",
       "      <th>country</th>\n",
       "      <th>city</th>\n",
       "      <th>latitude</th>\n",
       "      <th>longitude</th>\n",
       "      <th>coordinates</th>\n",
       "    </tr>\n",
       "  </thead>\n",
       "  <tbody>\n",
       "    <tr>\n",
       "      <th>1644</th>\n",
       "      <td>Platform Schiphol-Oost</td>\n",
       "      <td>8361</td>\n",
       "      <td>Nederland</td>\n",
       "      <td>Schiphol</td>\n",
       "      <td>52.313197</td>\n",
       "      <td>4.805052</td>\n",
       "      <td>{'type': 'Point', 'coordinates': [4.8050515439...</td>\n",
       "    </tr>\n",
       "  </tbody>\n",
       "</table>\n",
       "</div>"
      ],
      "text/plain": [
       "                        name  distance    country      city   latitude  \\\n",
       "1644  Platform Schiphol-Oost      8361  Nederland  Schiphol  52.313197   \n",
       "\n",
       "      longitude                                        coordinates  \n",
       "1644   4.805052  {'type': 'Point', 'coordinates': [4.8050515439...  "
      ]
     },
     "execution_count": 64,
     "metadata": {},
     "output_type": "execute_result"
    }
   ],
   "source": [
    "data[data.name.str.contains('Schiphol', regex= True)]"
   ]
  },
  {
   "cell_type": "code",
   "execution_count": 84,
   "metadata": {},
   "outputs": [],
   "source": [
    "#data[data.name.str.contains('Lounge', regex= True)]"
   ]
  },
  {
   "cell_type": "code",
   "execution_count": 66,
   "metadata": {},
   "outputs": [],
   "source": [
    "# Vamos a organizar los datos, y solo nos quedaremos en la columna 'type' con los valores \n",
    "# del diccionario <groups> \n",
    "groups= {\n",
    "    \"Coffee Shop\": 'Starbucks',\n",
    "    \"Airport\":['San Carlos Airport (SQL) (San Carlos Airport)',\"Palo Alto Airport (PAO) (Palo Alto Airport)\"\n",
    "                \"Santa Monica Airport (SMO) (Santa Monica Airport)\",\"London City Airport (LCY) (London City Airport)\",\n",
    "                \"St. Petersburg - Clearwater International Airport (PIE)\",\"Platform Schiphol-Oost\",\n",
    "                \"Stockholm-Bromma Airport (BMA) (Stockholm-Bromma Airport)\",\n",
    "                \"San Francisco International Airport (SFO) (San Francisco International Airport)\",\n",
    "                \"LaGuardia Airport (LGA) (LaGuardia Airport)\"],\n",
    "    \"Bar\":[\"Bar\",\"Cast Lounge at Viceroy Santa Monica\",\"DNA Lounge\",\"Nightcub\",\"Cocktail Bar\",\"Pub\",\"Wish Bar & Lounge \",\"Plunge Rooftop Bar & Lounge\",\"Audio Nightclub\",\"Temple Nightclub\",\n",
    "            \"Momofuku Ssäm Bar\",\"Absinthe Brasserie & Bar\",\"Cue Bar\",\"Ritz Bar & Lounge\",\"Friday Night Waltz\"],\n",
    "    \"School\": [\"Annex Stockholm International School\",\"Petite Sorbonne Preschool\",\"Trinity Preschool\",\"Preschool of America\",\"School\",\"MS 297 Middle School\",\n",
    "               \"Village Community School\",\"Chelsea School\",\"Public School 3\",\"St. Matthew Catholic School\",\n",
    "              \"De School Van Mieke Petiet\",\"Goethe Instituut\",\"Altra College\",\"AltSchool\",\"Sverigefinska skolan i Stockholm\"\n",
    "               \"Alta Vista School\",\"Mission Montessori\",\"Step by Step Early Childhood\",\"Rålambshovsskolan\"\n",
    "               \"Grace Church School\",\"Greenwich Village School\",\"Santa Monica High School\",\n",
    "               \"Stuyvesant High School\",\"Norman Thomas High School\",\"North Shoreview Montessori\",\n",
    "               \"Highland Montessori\",\"St. Timothy Catholic School\",\"High Point Elementary School\"],\n",
    "    \"Vegan\": [\"Thai Vegan \",\"Maoz Vegan\" , \"Urban Vegan Kitchen\", \"Golden Era Vegan\", \n",
    "              \"Vegan Junk Food Bar\",\"Garden Fresh Vegan Cuisine \",\"Elovate Vegan Kitchen\",\"Vegetarian Oasis\",\"Maoz\"]\n",
    "}\n",
    "\n",
    "def chooseCat(prod):\n",
    "    for groupName, groupItems in groups.items():\n",
    "        if prod in groupItems:\n",
    "            return groupName\n",
    "    return \"OTHER\""
   ]
  },
  {
   "cell_type": "code",
   "execution_count": 67,
   "metadata": {},
   "outputs": [],
   "source": [
    "data[\"category\"] = data.name.apply(chooseCat)"
   ]
  },
  {
   "cell_type": "code",
   "execution_count": 85,
   "metadata": {},
   "outputs": [
    {
     "data": {
      "text/html": [
       "<div>\n",
       "<style scoped>\n",
       "    .dataframe tbody tr th:only-of-type {\n",
       "        vertical-align: middle;\n",
       "    }\n",
       "\n",
       "    .dataframe tbody tr th {\n",
       "        vertical-align: top;\n",
       "    }\n",
       "\n",
       "    .dataframe thead th {\n",
       "        text-align: right;\n",
       "    }\n",
       "</style>\n",
       "<table border=\"1\" class=\"dataframe\">\n",
       "  <thead>\n",
       "    <tr style=\"text-align: right;\">\n",
       "      <th></th>\n",
       "      <th>name</th>\n",
       "      <th>distance</th>\n",
       "      <th>country</th>\n",
       "      <th>city</th>\n",
       "      <th>latitude</th>\n",
       "      <th>longitude</th>\n",
       "      <th>coordinates</th>\n",
       "      <th>category</th>\n",
       "      <th>score</th>\n",
       "    </tr>\n",
       "  </thead>\n",
       "  <tbody>\n",
       "    <tr>\n",
       "      <th>61</th>\n",
       "      <td>Friday Night Waltz</td>\n",
       "      <td>514</td>\n",
       "      <td>United States</td>\n",
       "      <td>Palo Alto</td>\n",
       "      <td>37.449341</td>\n",
       "      <td>-122.156635</td>\n",
       "      <td>{'type': 'Point', 'coordinates': [-122.1566349...</td>\n",
       "      <td>Bar</td>\n",
       "      <td>3.0</td>\n",
       "    </tr>\n",
       "    <tr>\n",
       "      <th>229</th>\n",
       "      <td>Ritz Bar &amp; Lounge</td>\n",
       "      <td>519</td>\n",
       "      <td>United States</td>\n",
       "      <td>New York</td>\n",
       "      <td>40.760844</td>\n",
       "      <td>-73.990322</td>\n",
       "      <td>{'type': 'Point', 'coordinates': [-73.99032233...</td>\n",
       "      <td>Bar</td>\n",
       "      <td>3.0</td>\n",
       "    </tr>\n",
       "    <tr>\n",
       "      <th>706</th>\n",
       "      <td>Temple Nightclub</td>\n",
       "      <td>294</td>\n",
       "      <td>United States</td>\n",
       "      <td>San Francisco</td>\n",
       "      <td>37.787898</td>\n",
       "      <td>-122.397227</td>\n",
       "      <td>{'type': 'Point', 'coordinates': [-122.3972270...</td>\n",
       "      <td>Bar</td>\n",
       "      <td>2.0</td>\n",
       "    </tr>\n",
       "    <tr>\n",
       "      <th>842</th>\n",
       "      <td>Momofuku Ssäm Bar</td>\n",
       "      <td>925</td>\n",
       "      <td>United States</td>\n",
       "      <td>New York</td>\n",
       "      <td>40.731711</td>\n",
       "      <td>-73.985571</td>\n",
       "      <td>{'type': 'Point', 'coordinates': [-73.98557086...</td>\n",
       "      <td>Bar</td>\n",
       "      <td>4.0</td>\n",
       "    </tr>\n",
       "    <tr>\n",
       "      <th>1259</th>\n",
       "      <td>Momofuku Ssäm Bar</td>\n",
       "      <td>493</td>\n",
       "      <td>United States</td>\n",
       "      <td>New York</td>\n",
       "      <td>40.731711</td>\n",
       "      <td>-73.985571</td>\n",
       "      <td>{'type': 'Point', 'coordinates': [-73.98557086...</td>\n",
       "      <td>Bar</td>\n",
       "      <td>3.0</td>\n",
       "    </tr>\n",
       "  </tbody>\n",
       "</table>\n",
       "</div>"
      ],
      "text/plain": [
       "                    name  distance        country           city   latitude  \\\n",
       "61    Friday Night Waltz       514  United States      Palo Alto  37.449341   \n",
       "229    Ritz Bar & Lounge       519  United States       New York  40.760844   \n",
       "706     Temple Nightclub       294  United States  San Francisco  37.787898   \n",
       "842    Momofuku Ssäm Bar       925  United States       New York  40.731711   \n",
       "1259   Momofuku Ssäm Bar       493  United States       New York  40.731711   \n",
       "\n",
       "       longitude                                        coordinates category  \\\n",
       "61   -122.156635  {'type': 'Point', 'coordinates': [-122.1566349...      Bar   \n",
       "229   -73.990322  {'type': 'Point', 'coordinates': [-73.99032233...      Bar   \n",
       "706  -122.397227  {'type': 'Point', 'coordinates': [-122.3972270...      Bar   \n",
       "842   -73.985571  {'type': 'Point', 'coordinates': [-73.98557086...      Bar   \n",
       "1259  -73.985571  {'type': 'Point', 'coordinates': [-73.98557086...      Bar   \n",
       "\n",
       "      score  \n",
       "61      3.0  \n",
       "229     3.0  \n",
       "706     2.0  \n",
       "842     4.0  \n",
       "1259    3.0  "
      ]
     },
     "execution_count": 85,
     "metadata": {},
     "output_type": "execute_result"
    }
   ],
   "source": [
    "data[(data.category == 'Bar')].head()"
   ]
  },
  {
   "cell_type": "code",
   "execution_count": 69,
   "metadata": {},
   "outputs": [],
   "source": [
    "def selector(row):\n",
    "    if row['category'] == 'Coffee Shop':\n",
    "        if row['distance'] <= 200:\n",
    "            return 1\n",
    "        elif row['distance'] > 200 and row['distance'] <= 500:\n",
    "            return 2\n",
    "        elif row['distance'] > 500 and row['distance'] <= 1000:\n",
    "            return 3\n",
    "        elif  row['distance'] > 1000 and row['distance'] <= 2000:\n",
    "            return 4\n",
    "        elif  row['distance'] > 2500 and row['distance'] <= 3000:\n",
    "            return 5\n",
    "        else:\n",
    "            return 6\n",
    "    if row['category'] == 'Airport':\n",
    "        if row['distance'] <= 5000:\n",
    "            return 1\n",
    "        elif  row['distance'] > 5000 and row['distance'] <= 10000:\n",
    "            return 2\n",
    "        elif row['distance'] > 10000 and row['distance'] <= 20000:\n",
    "            return 3\n",
    "        elif  row['distance'] > 20000 and row['distance'] <= 30000:\n",
    "            return 4\n",
    "        elif row['distance'] > 30000:\n",
    "            return 5\n",
    "    if row['category'] == 'Vegan':\n",
    "        if row['distance'] <= 300:\n",
    "            return 1\n",
    "        elif  row['distance'] > 300 and row['distance'] <= 500:\n",
    "            return 2\n",
    "        elif row['distance'] > 500 and row['distance'] <= 1000:\n",
    "            return 3\n",
    "        elif  row['distance'] > 1000 and row['distance'] <= 2000:\n",
    "            return 4\n",
    "        elif row['distance'] > 2000:\n",
    "            return 5\n",
    "    if row['category'] == 'School':\n",
    "        if row['distance'] <= 500:\n",
    "            return 1\n",
    "        elif  row['distance'] > 500 and row['distance'] <= 1000:\n",
    "            return 2\n",
    "        elif row['distance'] > 1000 and row['distance'] <= 1500:\n",
    "            return 3\n",
    "        elif  row['distance'] > 2000 and row['distance'] <= 3000:\n",
    "            return 4\n",
    "        elif row['distance'] > 3000:\n",
    "            return 5\n",
    "    if row['category'] == 'Bar':\n",
    "        if row['distance'] <= 200:\n",
    "            return 1\n",
    "        elif  row['distance'] > 200 and row['distance'] <= 300:\n",
    "            return 2\n",
    "        elif row['distance'] > 300 and row['distance'] <= 600:\n",
    "            return 3\n",
    "        elif  row['distance'] > 600 and row['distance'] <= 1000:\n",
    "            return 4\n",
    "        elif row['distance'] > 1000:\n",
    "            return 5"
   ]
  },
  {
   "cell_type": "code",
   "execution_count": 70,
   "metadata": {},
   "outputs": [],
   "source": [
    "data['score'] = data.apply(lambda row : selector(row), axis=1)"
   ]
  },
  {
   "cell_type": "code",
   "execution_count": 87,
   "metadata": {},
   "outputs": [
    {
     "data": {
      "text/html": [
       "<div>\n",
       "<style scoped>\n",
       "    .dataframe tbody tr th:only-of-type {\n",
       "        vertical-align: middle;\n",
       "    }\n",
       "\n",
       "    .dataframe tbody tr th {\n",
       "        vertical-align: top;\n",
       "    }\n",
       "\n",
       "    .dataframe thead th {\n",
       "        text-align: right;\n",
       "    }\n",
       "</style>\n",
       "<table border=\"1\" class=\"dataframe\">\n",
       "  <thead>\n",
       "    <tr style=\"text-align: right;\">\n",
       "      <th></th>\n",
       "      <th>name</th>\n",
       "      <th>distance</th>\n",
       "      <th>country</th>\n",
       "      <th>city</th>\n",
       "      <th>latitude</th>\n",
       "      <th>longitude</th>\n",
       "      <th>coordinates</th>\n",
       "      <th>category</th>\n",
       "      <th>score</th>\n",
       "    </tr>\n",
       "  </thead>\n",
       "  <tbody>\n",
       "    <tr>\n",
       "      <th>0</th>\n",
       "      <td>Starbucks</td>\n",
       "      <td>91</td>\n",
       "      <td>United States</td>\n",
       "      <td>Palo Alto</td>\n",
       "      <td>37.446737</td>\n",
       "      <td>-122.160489</td>\n",
       "      <td>{'type': 'Point', 'coordinates': [-122.1604894...</td>\n",
       "      <td>Coffee Shop</td>\n",
       "      <td>1.0</td>\n",
       "    </tr>\n",
       "    <tr>\n",
       "      <th>1</th>\n",
       "      <td>Starbucks</td>\n",
       "      <td>976</td>\n",
       "      <td>United States</td>\n",
       "      <td>Palo Alto</td>\n",
       "      <td>37.443713</td>\n",
       "      <td>-122.171854</td>\n",
       "      <td>{'type': 'Point', 'coordinates': [-122.1718535...</td>\n",
       "      <td>Coffee Shop</td>\n",
       "      <td>3.0</td>\n",
       "    </tr>\n",
       "    <tr>\n",
       "      <th>4</th>\n",
       "      <td>Starbucks</td>\n",
       "      <td>1758</td>\n",
       "      <td>United States</td>\n",
       "      <td>Menlo Park</td>\n",
       "      <td>37.451926</td>\n",
       "      <td>-122.180358</td>\n",
       "      <td>{'type': 'Point', 'coordinates': [-122.1803583...</td>\n",
       "      <td>Coffee Shop</td>\n",
       "      <td>4.0</td>\n",
       "    </tr>\n",
       "    <tr>\n",
       "      <th>61</th>\n",
       "      <td>Friday Night Waltz</td>\n",
       "      <td>514</td>\n",
       "      <td>United States</td>\n",
       "      <td>Palo Alto</td>\n",
       "      <td>37.449341</td>\n",
       "      <td>-122.156635</td>\n",
       "      <td>{'type': 'Point', 'coordinates': [-122.1566349...</td>\n",
       "      <td>Bar</td>\n",
       "      <td>3.0</td>\n",
       "    </tr>\n",
       "    <tr>\n",
       "      <th>70</th>\n",
       "      <td>Starbucks</td>\n",
       "      <td>444</td>\n",
       "      <td>United States</td>\n",
       "      <td>San Mateo</td>\n",
       "      <td>37.562890</td>\n",
       "      <td>-122.324005</td>\n",
       "      <td>{'type': 'Point', 'coordinates': [-122.324005,...</td>\n",
       "      <td>Coffee Shop</td>\n",
       "      <td>2.0</td>\n",
       "    </tr>\n",
       "  </tbody>\n",
       "</table>\n",
       "</div>"
      ],
      "text/plain": [
       "                  name  distance        country        city   latitude  \\\n",
       "0            Starbucks        91  United States   Palo Alto  37.446737   \n",
       "1            Starbucks       976  United States   Palo Alto  37.443713   \n",
       "4            Starbucks      1758  United States  Menlo Park  37.451926   \n",
       "61  Friday Night Waltz       514  United States   Palo Alto  37.449341   \n",
       "70           Starbucks       444  United States   San Mateo  37.562890   \n",
       "\n",
       "     longitude                                        coordinates  \\\n",
       "0  -122.160489  {'type': 'Point', 'coordinates': [-122.1604894...   \n",
       "1  -122.171854  {'type': 'Point', 'coordinates': [-122.1718535...   \n",
       "4  -122.180358  {'type': 'Point', 'coordinates': [-122.1803583...   \n",
       "61 -122.156635  {'type': 'Point', 'coordinates': [-122.1566349...   \n",
       "70 -122.324005  {'type': 'Point', 'coordinates': [-122.324005,...   \n",
       "\n",
       "       category  score  \n",
       "0   Coffee Shop    1.0  \n",
       "1   Coffee Shop    3.0  \n",
       "4   Coffee Shop    4.0  \n",
       "61          Bar    3.0  \n",
       "70  Coffee Shop    2.0  "
      ]
     },
     "execution_count": 87,
     "metadata": {},
     "output_type": "execute_result"
    }
   ],
   "source": [
    "data.head()"
   ]
  },
  {
   "cell_type": "code",
   "execution_count": 72,
   "metadata": {},
   "outputs": [],
   "source": [
    "data.drop(data.loc[data['score']> 4].index, inplace=True)"
   ]
  },
  {
   "cell_type": "code",
   "execution_count": 73,
   "metadata": {},
   "outputs": [
    {
     "data": {
      "text/plain": [
       "(1664, 9)"
      ]
     },
     "execution_count": 73,
     "metadata": {},
     "output_type": "execute_result"
    }
   ],
   "source": [
    "data.shape"
   ]
  },
  {
   "cell_type": "code",
   "execution_count": 74,
   "metadata": {},
   "outputs": [],
   "source": [
    "data_new = data"
   ]
  },
  {
   "cell_type": "code",
   "execution_count": 75,
   "metadata": {},
   "outputs": [
    {
     "data": {
      "text/plain": [
       "3.0    157\n",
       "2.0     92\n",
       "1.0     26\n",
       "4.0     18\n",
       "Name: score, dtype: int64"
      ]
     },
     "execution_count": 75,
     "metadata": {},
     "output_type": "execute_result"
    }
   ],
   "source": [
    "data_new.score.value_counts()"
   ]
  },
  {
   "cell_type": "code",
   "execution_count": 76,
   "metadata": {},
   "outputs": [
    {
     "data": {
      "text/plain": [
       "OTHER          1371\n",
       "Coffee Shop     230\n",
       "School           32\n",
       "Bar              12\n",
       "Airport          11\n",
       "Vegan             8\n",
       "Name: category, dtype: int64"
      ]
     },
     "execution_count": 76,
     "metadata": {},
     "output_type": "execute_result"
    }
   ],
   "source": [
    "data_new.category.value_counts()"
   ]
  },
  {
   "cell_type": "code",
   "execution_count": 77,
   "metadata": {},
   "outputs": [],
   "source": [
    "data_new.drop(data_new.loc[data_new.category == 'OTHER'].index, inplace=True)"
   ]
  },
  {
   "cell_type": "code",
   "execution_count": 78,
   "metadata": {},
   "outputs": [],
   "source": [
    "data_new = data.reset_index(drop=True)"
   ]
  },
  {
   "cell_type": "code",
   "execution_count": 79,
   "metadata": {},
   "outputs": [
    {
     "data": {
      "text/plain": [
       "array(['United States', 'Sverige', 'United Kingdom', 'Nederland'],\n",
       "      dtype=object)"
      ]
     },
     "execution_count": 79,
     "metadata": {},
     "output_type": "execute_result"
    }
   ],
   "source": [
    "data_new.country.unique()"
   ]
  },
  {
   "cell_type": "code",
   "execution_count": 80,
   "metadata": {},
   "outputs": [],
   "source": [
    "data_new.loc[(data_new['country']== 'United States'), 'country'] = 'USA'\n",
    "data_new.loc[(data_new['country']== 'Sverige'), 'country'] = 'SWE'\n",
    "data_new.loc[(data_new['country']== 'United Kingdom'), 'country']  = 'GBR'\n",
    "data_new.loc[(data_new['country']== 'Nederland'), 'country']  = 'NLD'\n"
   ]
  },
  {
   "cell_type": "code",
   "execution_count": 81,
   "metadata": {},
   "outputs": [
    {
     "data": {
      "text/plain": [
       "Index(['name', 'distance', 'country', 'city', 'latitude', 'longitude',\n",
       "       'coordinates', 'category', 'score'],\n",
       "      dtype='object')"
      ]
     },
     "execution_count": 81,
     "metadata": {},
     "output_type": "execute_result"
    }
   ],
   "source": [
    "data_new.columns"
   ]
  },
  {
   "cell_type": "code",
   "execution_count": 82,
   "metadata": {},
   "outputs": [],
   "source": [
    "data_new = data_new[[\"name\",\"country\",\"city\", \"coordinates\",\"longitude\",\"latitude\",\"category\", \"score\"]]"
   ]
  },
  {
   "cell_type": "code",
   "execution_count": 83,
   "metadata": {},
   "outputs": [],
   "source": [
    "data_new.to_json('./output/queries.json', orient='records',default_handler=str)"
   ]
  }
 ],
 "metadata": {
  "kernelspec": {
   "display_name": "Python 3",
   "language": "python",
   "name": "python3"
  },
  "language_info": {
   "codemirror_mode": {
    "name": "ipython",
    "version": 3
   },
   "file_extension": ".py",
   "mimetype": "text/x-python",
   "name": "python",
   "nbconvert_exporter": "python",
   "pygments_lexer": "ipython3",
   "version": "3.7.5"
  }
 },
 "nbformat": 4,
 "nbformat_minor": 2
}
