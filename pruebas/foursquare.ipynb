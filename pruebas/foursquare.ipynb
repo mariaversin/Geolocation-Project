{
 "cells": [
  {
   "cell_type": "markdown",
   "metadata": {},
   "source": [
    "# API ---->  FOURSQUARE\n",
    "Hacer requests de:\n",
    "    - Starbucks\n",
    "    - Airports\n",
    "    - Schools\n",
    "    - Bar\n",
    "    - Vegan"
   ]
  },
  {
   "cell_type": "code",
   "execution_count": 39,
   "metadata": {},
   "outputs": [
    {
     "ename": "ImportError",
     "evalue": "attempted relative import with no known parent package",
     "output_type": "error",
     "traceback": [
      "\u001b[0;31m---------------------------------------------------------------------------\u001b[0m",
      "\u001b[0;31mImportError\u001b[0m                               Traceback (most recent call last)",
      "\u001b[0;32m<ipython-input-39-0331193321d3>\u001b[0m in \u001b[0;36m<module>\u001b[0;34m()\u001b[0m\n\u001b[0;32m----> 1\u001b[0;31m \u001b[0;32mfrom\u001b[0m \u001b[0;34m.\u001b[0m\u001b[0;34m.\u001b[0m\u001b[0msrc\u001b[0m\u001b[0;34m.\u001b[0m\u001b[0mcontants\u001b[0m \u001b[0;32mimport\u001b[0m \u001b[0mplaces\u001b[0m\u001b[0;34m\u001b[0m\u001b[0;34m\u001b[0m\u001b[0m\n\u001b[0m\u001b[1;32m      2\u001b[0m \u001b[0;32mimport\u001b[0m \u001b[0mrequests\u001b[0m\u001b[0;34m\u001b[0m\u001b[0;34m\u001b[0m\u001b[0m\n\u001b[1;32m      3\u001b[0m \u001b[0;32mimport\u001b[0m \u001b[0mpprint\u001b[0m\u001b[0;34m\u001b[0m\u001b[0;34m\u001b[0m\u001b[0m\n\u001b[1;32m      4\u001b[0m \u001b[0;32mimport\u001b[0m \u001b[0mre\u001b[0m\u001b[0;34m\u001b[0m\u001b[0;34m\u001b[0m\u001b[0m\n\u001b[1;32m      5\u001b[0m \u001b[0;32mfrom\u001b[0m \u001b[0mdotenv\u001b[0m \u001b[0;32mimport\u001b[0m \u001b[0mload_dotenv\u001b[0m\u001b[0;34m\u001b[0m\u001b[0;34m\u001b[0m\u001b[0m\n",
      "\u001b[0;31mImportError\u001b[0m: attempted relative import with no known parent package"
     ]
    }
   ],
   "source": [
    "from ..src.contants import places\n",
    "import requests\n",
    "import pprint\n",
    "import re\n",
    "from dotenv import load_dotenv\n",
    "load_dotenv()\n",
    "import pandas as pd\n",
    "import os\n",
    "import json\n",
    "import numpy as np"
   ]
  },
  {
   "cell_type": "code",
   "execution_count": 2,
   "metadata": {},
   "outputs": [],
   "source": [
    "from pymongo import MongoClient\n",
    "\n",
    "client = MongoClient()\n",
    "\n",
    "def connectCollection(database, collection):\n",
    "    ''' return collection from db crunchbase'''\n",
    "    db = client[database]\n",
    "    coll = db[collection]\n",
    "    return db, coll"
   ]
  },
  {
   "cell_type": "code",
   "execution_count": 3,
   "metadata": {},
   "outputs": [],
   "source": [
    "db, coll = connectCollection('dbcompanies','companies_clean')"
   ]
  },
  {
   "cell_type": "code",
   "execution_count": 4,
   "metadata": {},
   "outputs": [],
   "source": [
    "companies = db.companies_clean.find({ \n",
    "    \"money_raised\":{\n",
    "        \"$gte\": 1000000\n",
    "    }}) "
   ]
  },
  {
   "cell_type": "code",
   "execution_count": 5,
   "metadata": {},
   "outputs": [],
   "source": [
    "data_companies = pd.DataFrame(companies)"
   ]
  },
  {
   "cell_type": "code",
   "execution_count": 6,
   "metadata": {},
   "outputs": [],
   "source": [
    "geo_point = []\n",
    "for loc in range(len(data_companies)):\n",
    "    geo_point.append(data_companies.coordinates[loc])  "
   ]
  },
  {
   "cell_type": "code",
   "execution_count": 7,
   "metadata": {},
   "outputs": [],
   "source": [
    "def near(geo_point, radio_meters):\n",
    "        geopoint = geo_point\n",
    "        return list(db.companies_clean.find({\n",
    "        \"coordinates.coordinates\": {\n",
    "         \"$near\": {\n",
    "             \"$geometry\": geopoint,\n",
    "             \"$maxDistance\": radio_meters\n",
    "         }}})) \n",
    "\n",
    "radio_meters = 3000\n",
    "number_offices = []\n",
    "list_offices=[]\n",
    "for i in range(len(data_companies)):\n",
    "    num_offices =  near(geo_point[i], radio_meters)\n",
    "    list_offices.append(num_offices)\n",
    "    number_offices.append(len(num_offices))\n",
    "data_companies['number offices near'] = number_offices"
   ]
  },
  {
   "cell_type": "code",
   "execution_count": 8,
   "metadata": {},
   "outputs": [],
   "source": [
    "data_companies = data_companies[data_companies['number offices near'] > 1]"
   ]
  },
  {
   "cell_type": "code",
   "execution_count": 9,
   "metadata": {},
   "outputs": [
    {
     "data": {
      "text/html": [
       "<div>\n",
       "<style scoped>\n",
       "    .dataframe tbody tr th:only-of-type {\n",
       "        vertical-align: middle;\n",
       "    }\n",
       "\n",
       "    .dataframe tbody tr th {\n",
       "        vertical-align: top;\n",
       "    }\n",
       "\n",
       "    .dataframe thead th {\n",
       "        text-align: right;\n",
       "    }\n",
       "</style>\n",
       "<table border=\"1\" class=\"dataframe\">\n",
       "  <thead>\n",
       "    <tr style=\"text-align: right;\">\n",
       "      <th></th>\n",
       "      <th>_id</th>\n",
       "      <th>name</th>\n",
       "      <th>employees</th>\n",
       "      <th>year</th>\n",
       "      <th>category</th>\n",
       "      <th>id</th>\n",
       "      <th>money_raised</th>\n",
       "      <th>city</th>\n",
       "      <th>country</th>\n",
       "      <th>latitude</th>\n",
       "      <th>longitude</th>\n",
       "      <th>coordinates</th>\n",
       "      <th>number offices near</th>\n",
       "    </tr>\n",
       "  </thead>\n",
       "  <tbody>\n",
       "    <tr>\n",
       "      <th>0</th>\n",
       "      <td>5e049e9de6eb90cad2d707ad</td>\n",
       "      <td>Fixya</td>\n",
       "      <td>30.0</td>\n",
       "      <td>2013</td>\n",
       "      <td>web</td>\n",
       "      <td>52cdef7c4bab8bd675297fec</td>\n",
       "      <td>8000000.0</td>\n",
       "      <td>San Mateo</td>\n",
       "      <td>USA</td>\n",
       "      <td>37.566879</td>\n",
       "      <td>-122.323895</td>\n",
       "      <td>{'type': 'Point', 'coordinates': [-122.323895,...</td>\n",
       "      <td>2</td>\n",
       "    </tr>\n",
       "    <tr>\n",
       "      <th>2</th>\n",
       "      <td>5e049e9de6eb90cad2d707af</td>\n",
       "      <td>Social Gaming Network</td>\n",
       "      <td>100.0</td>\n",
       "      <td>2011</td>\n",
       "      <td>web</td>\n",
       "      <td>52cdef7c4bab8bd67529831a</td>\n",
       "      <td>17100000.0</td>\n",
       "      <td>Los Angeles</td>\n",
       "      <td>USA</td>\n",
       "      <td>37.446823</td>\n",
       "      <td>-122.161523</td>\n",
       "      <td>{'type': 'Point', 'coordinates': [-122.161523,...</td>\n",
       "      <td>3</td>\n",
       "    </tr>\n",
       "    <tr>\n",
       "      <th>3</th>\n",
       "      <td>5e049e9de6eb90cad2d707b0</td>\n",
       "      <td>Skydeck</td>\n",
       "      <td>9.0</td>\n",
       "      <td>2012</td>\n",
       "      <td>web</td>\n",
       "      <td>52cdef7c4bab8bd675298509</td>\n",
       "      <td>4000000.0</td>\n",
       "      <td>Palo Alto</td>\n",
       "      <td>USA</td>\n",
       "      <td>37.564538</td>\n",
       "      <td>-122.325470</td>\n",
       "      <td>{'type': 'Point', 'coordinates': [-122.3254705...</td>\n",
       "      <td>2</td>\n",
       "    </tr>\n",
       "    <tr>\n",
       "      <th>4</th>\n",
       "      <td>5e049e9de6eb90cad2d707b1</td>\n",
       "      <td>PeekYou</td>\n",
       "      <td>20.0</td>\n",
       "      <td>2012</td>\n",
       "      <td>web</td>\n",
       "      <td>52cdef7c4bab8bd675297f94</td>\n",
       "      <td>1830000.0</td>\n",
       "      <td>New York</td>\n",
       "      <td>USA</td>\n",
       "      <td>40.757929</td>\n",
       "      <td>-73.985506</td>\n",
       "      <td>{'type': 'Point', 'coordinates': [-73.985506, ...</td>\n",
       "      <td>6</td>\n",
       "    </tr>\n",
       "    <tr>\n",
       "      <th>9</th>\n",
       "      <td>5e049e9de6eb90cad2d707b7</td>\n",
       "      <td>Inuvo</td>\n",
       "      <td>50.0</td>\n",
       "      <td>2009</td>\n",
       "      <td>web</td>\n",
       "      <td>52cdef7d4bab8bd67529980b</td>\n",
       "      <td>4200000.0</td>\n",
       "      <td>Clearwater</td>\n",
       "      <td>USA</td>\n",
       "      <td>27.913011</td>\n",
       "      <td>-82.702449</td>\n",
       "      <td>{'type': 'Point', 'coordinates': [-82.702449, ...</td>\n",
       "      <td>2</td>\n",
       "    </tr>\n",
       "  </tbody>\n",
       "</table>\n",
       "</div>"
      ],
      "text/plain": [
       "                        _id                   name  employees  year category  \\\n",
       "0  5e049e9de6eb90cad2d707ad                  Fixya       30.0  2013      web   \n",
       "2  5e049e9de6eb90cad2d707af  Social Gaming Network      100.0  2011      web   \n",
       "3  5e049e9de6eb90cad2d707b0                Skydeck        9.0  2012      web   \n",
       "4  5e049e9de6eb90cad2d707b1                PeekYou       20.0  2012      web   \n",
       "9  5e049e9de6eb90cad2d707b7                  Inuvo       50.0  2009      web   \n",
       "\n",
       "                         id  money_raised         city country   latitude  \\\n",
       "0  52cdef7c4bab8bd675297fec     8000000.0    San Mateo     USA  37.566879   \n",
       "2  52cdef7c4bab8bd67529831a    17100000.0  Los Angeles     USA  37.446823   \n",
       "3  52cdef7c4bab8bd675298509     4000000.0    Palo Alto     USA  37.564538   \n",
       "4  52cdef7c4bab8bd675297f94     1830000.0     New York     USA  40.757929   \n",
       "9  52cdef7d4bab8bd67529980b     4200000.0   Clearwater     USA  27.913011   \n",
       "\n",
       "    longitude                                        coordinates  \\\n",
       "0 -122.323895  {'type': 'Point', 'coordinates': [-122.323895,...   \n",
       "2 -122.161523  {'type': 'Point', 'coordinates': [-122.161523,...   \n",
       "3 -122.325470  {'type': 'Point', 'coordinates': [-122.3254705...   \n",
       "4  -73.985506  {'type': 'Point', 'coordinates': [-73.985506, ...   \n",
       "9  -82.702449  {'type': 'Point', 'coordinates': [-82.702449, ...   \n",
       "\n",
       "   number offices near  \n",
       "0                    2  \n",
       "2                    3  \n",
       "3                    2  \n",
       "4                    6  \n",
       "9                    2  "
      ]
     },
     "execution_count": 9,
     "metadata": {},
     "output_type": "execute_result"
    }
   ],
   "source": [
    "data_companies.head()"
   ]
  },
  {
   "cell_type": "code",
   "execution_count": 10,
   "metadata": {},
   "outputs": [
    {
     "data": {
      "text/plain": [
       "(22, 13)"
      ]
     },
     "execution_count": 10,
     "metadata": {},
     "output_type": "execute_result"
    }
   ],
   "source": [
    "data_companies.shape"
   ]
  },
  {
   "cell_type": "code",
   "execution_count": 136,
   "metadata": {},
   "outputs": [],
   "source": [
    "data_companies.to_json('./best_companies.json', orient='records',default_handler=str)"
   ]
  },
  {
   "cell_type": "code",
   "execution_count": 137,
   "metadata": {},
   "outputs": [],
   "source": [
    "data_companies.to_csv('./best_companies.csv') "
   ]
  },
  {
   "cell_type": "code",
   "execution_count": 11,
   "metadata": {},
   "outputs": [],
   "source": [
    "geo = []\n",
    "for coords in data_companies['coordinates']:\n",
    "    geo.append(coords['coordinates'])"
   ]
  },
  {
   "cell_type": "code",
   "execution_count": 12,
   "metadata": {},
   "outputs": [],
   "source": [
    " # Latitud 37\n",
    "# Longitud -122\n"
   ]
  },
  {
   "cell_type": "code",
   "execution_count": 29,
   "metadata": {},
   "outputs": [],
   "source": [
    "def getNearby(lat,lng,query,radius):\n",
    "    \"\"\" Function for queries \"\"\"\n",
    "    CLIENT_ID = os.getenv(\"client_id\")\n",
    "    CLIENT_SECRET = os.getenv(\"client_secret\")\n",
    "    url = 'https://api.foursquare.com/v2/venues/explore'\n",
    "    queryParams = dict(\n",
    "        client_id=CLIENT_ID,\n",
    "        client_secret=CLIENT_SECRET,\n",
    "        v='20181023', # DONDE ESTOY\n",
    "        ll=f\"{lat},{lng}\", #QUE QUIERO\n",
    "        query=query, # A QUE DISTANCIA\n",
    "        radius=radius,\n",
    "        limit = 25\n",
    "    )\n",
    "    res = requests.get(url, params=queryParams)\n",
    "    return res.json()\n",
    "  "
   ]
  },
  {
   "cell_type": "code",
   "execution_count": 30,
   "metadata": {},
   "outputs": [],
   "source": [
    "#  Hacer las queries a todas las coordenadas\n",
    "\"\"\"p = []\n",
    "for coord in geo:\n",
    "    for place, value in places.items():\n",
    "        try:\n",
    "            request = (getNearby(coord[1],coord[0],value['api'],value['distance']))\n",
    "            p.append(request)\n",
    "        except:\n",
    "            Exception: f\"Ha habido problemas con {place}\"\n",
    "\"\"\""
   ]
  },
  {
   "cell_type": "code",
   "execution_count": 465,
   "metadata": {},
   "outputs": [],
   "source": [
    "def curateResponse(data):\n",
    "    \"\"\" Function for clean request and clean errors \"\"\"\n",
    "    places = []\n",
    "    for item in data:\n",
    "        try:\n",
    "            for i in item[\"response\"][\"groups\"][0][\"items\"]:\n",
    "                if i[\"venue\"]['location']['city'] != None:\n",
    "                    places.append({\n",
    "                        \"name\":i[\"venue\"]['name'],\n",
    "                        \"distance\": i[\"venue\"]['location'][\"distance\"],\n",
    "                        \"country\": i[\"venue\"]['location'][\"country\"],\n",
    "                        \"city\": i[\"venue\"]['location']['city'],\n",
    "                        \"latitude\": i[\"venue\"]['location'][\"lat\"],\n",
    "                        \"longitude\": i[\"venue\"]['location'][\"lng\"],\n",
    "                        \"coordinates\": {\n",
    "                        \"type\":\"Point\",\n",
    "                        \"coordinates\":[i[\"venue\"]['location'][\"lng\"], i[\"venue\"]['location'][\"lat\"]]\n",
    "                            }})\n",
    "        except:\n",
    "            print(f\"Ha ocurrido algún error.\")\n",
    "    return places"
   ]
  },
  {
   "cell_type": "code",
   "execution_count": 499,
   "metadata": {},
   "outputs": [
    {
     "name": "stdout",
     "output_type": "stream",
     "text": [
      "Ha ocurrido algún error.\n",
      "Ha ocurrido algún error.\n",
      "Ha ocurrido algún error.\n",
      "Ha ocurrido algún error.\n",
      "Ha ocurrido algún error.\n",
      "Ha ocurrido algún error.\n",
      "Ha ocurrido algún error.\n",
      "Ha ocurrido algún error.\n",
      "Ha ocurrido algún error.\n",
      "Ha ocurrido algún error.\n",
      "Ha ocurrido algún error.\n",
      "Ha ocurrido algún error.\n",
      "Ha ocurrido algún error.\n",
      "Ha ocurrido algún error.\n",
      "Ha ocurrido algún error.\n",
      "Ha ocurrido algún error.\n",
      "Ha ocurrido algún error.\n"
     ]
    }
   ],
   "source": [
    "data = pd.DataFrame(curateResponse(p))"
   ]
  },
  {
   "cell_type": "code",
   "execution_count": 584,
   "metadata": {},
   "outputs": [
    {
     "data": {
      "text/plain": [
       "'data.name.unique()'"
      ]
     },
     "execution_count": 584,
     "metadata": {},
     "output_type": "execute_result"
    }
   ],
   "source": [
    "\"\"\"data.name.unique()\"\"\""
   ]
  },
  {
   "cell_type": "code",
   "execution_count": 501,
   "metadata": {},
   "outputs": [
    {
     "data": {
      "text/plain": [
       "Starbucks        360\n",
       "sweetgreen        13\n",
       "Abokado           11\n",
       "Juice Press       11\n",
       "Us Helicopter      8\n",
       "Name: name, dtype: int64"
      ]
     },
     "execution_count": 501,
     "metadata": {},
     "output_type": "execute_result"
    }
   ],
   "source": [
    "data.name.value_counts().head()"
   ]
  },
  {
   "cell_type": "code",
   "execution_count": 502,
   "metadata": {},
   "outputs": [],
   "source": [
    "# Vamos a organizar los datos, y solo nos quedaremos en la columna 'type' con los valores \n",
    "# del diccionario <groups> \n",
    "groups= {\n",
    "    \"Coffee Shop\": 'Starbucks',\n",
    "    \"Airport\":['San Carlos Airport (SQL) (San Carlos Airport)',\"Palo Alto Airport (PAO) (Palo Alto Airport)\"\n",
    "                \"Santa Monica Airport (SMO) (Santa Monica Airport)\",\"London City Airport (LCY) (London City Airport)\",\n",
    "                \"St. Petersburg - Clearwater International Airport (PIE)\",\n",
    "                \"Stockholm-Bromma Airport (BMA) (Stockholm-Bromma Airport)\",\n",
    "                \"San Francisco International Airport (SFO) (San Francisco International Airport)\",\n",
    "                \"LaGuardia Airport (LGA) (LaGuardia Airport)\"],\n",
    "    \"Bar\":[\"Bar\",\"Nightcub\",\"Cocktail Bar\",\"Pub\",\"Plunge Rooftop Bar & Lounge\",\"Audio Nightclub\",\"Temple Nightclub\",\n",
    "            \"Momofuku Ssäm Bar\",\"Absinthe Brasserie & Bar\",\"Cue Bar\",\"Ritz Bar & Lounge\"],\n",
    "    \"School\": [\"Annex Stockholm International School\",\"Petite Sorbonne Preschool\",\"Trinity Preschool\",\"Preschool of America\",\"School\",\"MS 297 Middle School\",\n",
    "               \"Village Community School\",\"Chelsea School\",\"Public School 3\",\"St. Matthew Catholic School\",\n",
    "              \"De School Van Mieke Petiet\",\"Goethe Instituut\",\"Altra College\",\"AltSchool\",\n",
    "               \"Alta Vista School\",\"Mission Montessori\",\"Step by Step Early Childhood\",\n",
    "               \"Grace Church School\",\"Greenwich Village School\",\"Santa Monica High School\",\n",
    "               \"Stuyvesant High School\",\"Norman Thomas High School\",\"North Shoreview Montessori\",\n",
    "               \"Highland Montessori\",\"St. Timothy Catholic School\",\"High Point Elementary School\"],\n",
    "    \"Vegan\": [\"Thai Vegan \",\"Maoz Vegan\" , \"Urban Vegan Kitchen\", \"Golden Era Vegan\", \n",
    "              \"Vegan Junk Food Bar\",\"Garden Fresh Vegan Cuisine \",\"Elovate Vegan Kitchen\",\"Vegetarian Oasis\",\"Maoz\"]\n",
    "}\n",
    "\n",
    "def chooseCat(prod):\n",
    "    for groupName, groupItems in groups.items():\n",
    "        if prod in groupItems:\n",
    "            return groupName\n",
    "    return \"OTHER\""
   ]
  },
  {
   "cell_type": "code",
   "execution_count": 503,
   "metadata": {},
   "outputs": [],
   "source": [
    "data[\"category\"] = data.name.apply(chooseCat)"
   ]
  },
  {
   "cell_type": "code",
   "execution_count": 504,
   "metadata": {},
   "outputs": [
    {
     "data": {
      "text/html": [
       "<div>\n",
       "<style scoped>\n",
       "    .dataframe tbody tr th:only-of-type {\n",
       "        vertical-align: middle;\n",
       "    }\n",
       "\n",
       "    .dataframe tbody tr th {\n",
       "        vertical-align: top;\n",
       "    }\n",
       "\n",
       "    .dataframe thead th {\n",
       "        text-align: right;\n",
       "    }\n",
       "</style>\n",
       "<table border=\"1\" class=\"dataframe\">\n",
       "  <thead>\n",
       "    <tr style=\"text-align: right;\">\n",
       "      <th></th>\n",
       "      <th>name</th>\n",
       "      <th>distance</th>\n",
       "      <th>country</th>\n",
       "      <th>city</th>\n",
       "      <th>latitude</th>\n",
       "      <th>longitude</th>\n",
       "      <th>coordinates</th>\n",
       "      <th>category</th>\n",
       "    </tr>\n",
       "  </thead>\n",
       "  <tbody>\n",
       "    <tr>\n",
       "      <th>25</th>\n",
       "      <td>San Francisco International Airport (SFO) (San...</td>\n",
       "      <td>7864</td>\n",
       "      <td>United States</td>\n",
       "      <td>San Francisco</td>\n",
       "      <td>37.616713</td>\n",
       "      <td>-122.387094</td>\n",
       "      <td>{'type': 'Point', 'coordinates': [-122.3870944...</td>\n",
       "      <td>Airport</td>\n",
       "    </tr>\n",
       "    <tr>\n",
       "      <th>26</th>\n",
       "      <td>San Carlos Airport (SQL) (San Carlos Airport)</td>\n",
       "      <td>8619</td>\n",
       "      <td>United States</td>\n",
       "      <td>San Carlos</td>\n",
       "      <td>37.515107</td>\n",
       "      <td>-122.251278</td>\n",
       "      <td>{'type': 'Point', 'coordinates': [-122.2512780...</td>\n",
       "      <td>Airport</td>\n",
       "    </tr>\n",
       "    <tr>\n",
       "      <th>182</th>\n",
       "      <td>San Francisco International Airport (SFO) (San...</td>\n",
       "      <td>7954</td>\n",
       "      <td>United States</td>\n",
       "      <td>San Francisco</td>\n",
       "      <td>37.616713</td>\n",
       "      <td>-122.387094</td>\n",
       "      <td>{'type': 'Point', 'coordinates': [-122.3870944...</td>\n",
       "      <td>Airport</td>\n",
       "    </tr>\n",
       "    <tr>\n",
       "      <th>183</th>\n",
       "      <td>San Carlos Airport (SQL) (San Carlos Airport)</td>\n",
       "      <td>8553</td>\n",
       "      <td>United States</td>\n",
       "      <td>San Carlos</td>\n",
       "      <td>37.515107</td>\n",
       "      <td>-122.251278</td>\n",
       "      <td>{'type': 'Point', 'coordinates': [-122.2512780...</td>\n",
       "      <td>Airport</td>\n",
       "    </tr>\n",
       "    <tr>\n",
       "      <th>270</th>\n",
       "      <td>LaGuardia Airport (LGA) (LaGuardia Airport)</td>\n",
       "      <td>9978</td>\n",
       "      <td>United States</td>\n",
       "      <td>East Elmhurst</td>\n",
       "      <td>40.772888</td>\n",
       "      <td>-73.868809</td>\n",
       "      <td>{'type': 'Point', 'coordinates': [-73.86880874...</td>\n",
       "      <td>Airport</td>\n",
       "    </tr>\n",
       "    <tr>\n",
       "      <th>379</th>\n",
       "      <td>St. Petersburg - Clearwater International Airp...</td>\n",
       "      <td>1300</td>\n",
       "      <td>United States</td>\n",
       "      <td>Clearwater</td>\n",
       "      <td>27.906642</td>\n",
       "      <td>-82.691361</td>\n",
       "      <td>{'type': 'Point', 'coordinates': [-82.69136106...</td>\n",
       "      <td>Airport</td>\n",
       "    </tr>\n",
       "    <tr>\n",
       "      <th>391</th>\n",
       "      <td>Stockholm-Bromma Airport (BMA) (Stockholm-Brom...</td>\n",
       "      <td>5532</td>\n",
       "      <td>Sverige</td>\n",
       "      <td>Bromma</td>\n",
       "      <td>59.355532</td>\n",
       "      <td>17.945482</td>\n",
       "      <td>{'type': 'Point', 'coordinates': [17.945482053...</td>\n",
       "      <td>Airport</td>\n",
       "    </tr>\n",
       "    <tr>\n",
       "      <th>440</th>\n",
       "      <td>Stockholm-Bromma Airport (BMA) (Stockholm-Brom...</td>\n",
       "      <td>5532</td>\n",
       "      <td>Sverige</td>\n",
       "      <td>Bromma</td>\n",
       "      <td>59.355532</td>\n",
       "      <td>17.945482</td>\n",
       "      <td>{'type': 'Point', 'coordinates': [17.945482053...</td>\n",
       "      <td>Airport</td>\n",
       "    </tr>\n",
       "    <tr>\n",
       "      <th>509</th>\n",
       "      <td>St. Petersburg - Clearwater International Airp...</td>\n",
       "      <td>1300</td>\n",
       "      <td>United States</td>\n",
       "      <td>Clearwater</td>\n",
       "      <td>27.906642</td>\n",
       "      <td>-82.691361</td>\n",
       "      <td>{'type': 'Point', 'coordinates': [-82.69136106...</td>\n",
       "      <td>Airport</td>\n",
       "    </tr>\n",
       "    <tr>\n",
       "      <th>793</th>\n",
       "      <td>London City Airport (LCY) (London City Airport)</td>\n",
       "      <td>9971</td>\n",
       "      <td>United Kingdom</td>\n",
       "      <td>London</td>\n",
       "      <td>51.503980</td>\n",
       "      <td>0.049679</td>\n",
       "      <td>{'type': 'Point', 'coordinates': [0.0496786870...</td>\n",
       "      <td>Airport</td>\n",
       "    </tr>\n",
       "  </tbody>\n",
       "</table>\n",
       "</div>"
      ],
      "text/plain": [
       "                                                  name  distance  \\\n",
       "25   San Francisco International Airport (SFO) (San...      7864   \n",
       "26       San Carlos Airport (SQL) (San Carlos Airport)      8619   \n",
       "182  San Francisco International Airport (SFO) (San...      7954   \n",
       "183      San Carlos Airport (SQL) (San Carlos Airport)      8553   \n",
       "270        LaGuardia Airport (LGA) (LaGuardia Airport)      9978   \n",
       "379  St. Petersburg - Clearwater International Airp...      1300   \n",
       "391  Stockholm-Bromma Airport (BMA) (Stockholm-Brom...      5532   \n",
       "440  Stockholm-Bromma Airport (BMA) (Stockholm-Brom...      5532   \n",
       "509  St. Petersburg - Clearwater International Airp...      1300   \n",
       "793    London City Airport (LCY) (London City Airport)      9971   \n",
       "\n",
       "            country           city   latitude   longitude  \\\n",
       "25    United States  San Francisco  37.616713 -122.387094   \n",
       "26    United States     San Carlos  37.515107 -122.251278   \n",
       "182   United States  San Francisco  37.616713 -122.387094   \n",
       "183   United States     San Carlos  37.515107 -122.251278   \n",
       "270   United States  East Elmhurst  40.772888  -73.868809   \n",
       "379   United States     Clearwater  27.906642  -82.691361   \n",
       "391         Sverige         Bromma  59.355532   17.945482   \n",
       "440         Sverige         Bromma  59.355532   17.945482   \n",
       "509   United States     Clearwater  27.906642  -82.691361   \n",
       "793  United Kingdom         London  51.503980    0.049679   \n",
       "\n",
       "                                           coordinates category  \n",
       "25   {'type': 'Point', 'coordinates': [-122.3870944...  Airport  \n",
       "26   {'type': 'Point', 'coordinates': [-122.2512780...  Airport  \n",
       "182  {'type': 'Point', 'coordinates': [-122.3870944...  Airport  \n",
       "183  {'type': 'Point', 'coordinates': [-122.2512780...  Airport  \n",
       "270  {'type': 'Point', 'coordinates': [-73.86880874...  Airport  \n",
       "379  {'type': 'Point', 'coordinates': [-82.69136106...  Airport  \n",
       "391  {'type': 'Point', 'coordinates': [17.945482053...  Airport  \n",
       "440  {'type': 'Point', 'coordinates': [17.945482053...  Airport  \n",
       "509  {'type': 'Point', 'coordinates': [-82.69136106...  Airport  \n",
       "793  {'type': 'Point', 'coordinates': [0.0496786870...  Airport  "
      ]
     },
     "execution_count": 504,
     "metadata": {},
     "output_type": "execute_result"
    }
   ],
   "source": [
    "data[data.category == 'Airport']"
   ]
  },
  {
   "cell_type": "code",
   "execution_count": 505,
   "metadata": {},
   "outputs": [
    {
     "data": {
      "text/plain": [
       "array(['Coffee Shop', 'Airport', 'OTHER', 'School', 'Bar', 'Vegan'],\n",
       "      dtype=object)"
      ]
     },
     "execution_count": 505,
     "metadata": {},
     "output_type": "execute_result"
    }
   ],
   "source": [
    "data.category.unique()"
   ]
  },
  {
   "cell_type": "code",
   "execution_count": 563,
   "metadata": {},
   "outputs": [],
   "source": [
    "def selector(row):\n",
    "    if row['category'] == 'Coffee Shop':\n",
    "        if row['distance'] <= 200:\n",
    "            return 1\n",
    "        elif row['distance'] > 200 and row['distance'] <= 500:\n",
    "            return 2\n",
    "        elif row['distance'] > 500 and row['distance'] <= 1000:\n",
    "            return 3\n",
    "        elif  row['distance'] > 1000 and row['distance'] <= 2000:\n",
    "            return 4\n",
    "        elif  row['distance'] > 2500 and row['distance'] <= 3000:\n",
    "            return 5\n",
    "        else:\n",
    "            return 6\n",
    "    if row['category'] == 'Airport':\n",
    "        if row['distance'] <= 2000:\n",
    "            return 1\n",
    "        elif  row['distance'] > 2000 and row['distance'] <= 5000:\n",
    "            return 2\n",
    "        elif row['distance'] > 5000 and row['distance'] <= 10000:\n",
    "            return 3\n",
    "        elif  row['distance'] > 10000 and row['distance'] <= 20000:\n",
    "            return 4\n",
    "        elif row['distance'] > 20000:\n",
    "            return 5\n",
    "    if row['category'] == 'Vegan':\n",
    "        if row['distance'] <= 300:\n",
    "            return 1\n",
    "        elif  row['distance'] > 300 and row['distance'] <= 500:\n",
    "            return 2\n",
    "        elif row['distance'] > 500 and row['distance'] <= 1000:\n",
    "            return 3\n",
    "        elif  row['distance'] > 1000 and row['distance'] <= 2000:\n",
    "            return 4\n",
    "        elif row['distance'] > 2000:\n",
    "            return 5\n",
    "    if row['category'] == 'School':\n",
    "        if row['distance'] <= 500:\n",
    "            return 1\n",
    "        elif  row['distance'] > 500 and row['distance'] <= 1000:\n",
    "            return 2\n",
    "        elif row['distance'] > 1000 and row['distance'] <= 1500:\n",
    "            return 3\n",
    "        elif  row['distance'] > 2000 and row['distance'] <= 3000:\n",
    "            return 4\n",
    "        elif row['distance'] > 3000:\n",
    "            return 5"
   ]
  },
  {
   "cell_type": "code",
   "execution_count": 564,
   "metadata": {},
   "outputs": [],
   "source": [
    "data['score'] = data.apply(lambda row : selector(row), axis=1)"
   ]
  },
  {
   "cell_type": "code",
   "execution_count": 570,
   "metadata": {},
   "outputs": [
    {
     "data": {
      "text/html": [
       "<div>\n",
       "<style scoped>\n",
       "    .dataframe tbody tr th:only-of-type {\n",
       "        vertical-align: middle;\n",
       "    }\n",
       "\n",
       "    .dataframe tbody tr th {\n",
       "        vertical-align: top;\n",
       "    }\n",
       "\n",
       "    .dataframe thead th {\n",
       "        text-align: right;\n",
       "    }\n",
       "</style>\n",
       "<table border=\"1\" class=\"dataframe\">\n",
       "  <thead>\n",
       "    <tr style=\"text-align: right;\">\n",
       "      <th></th>\n",
       "      <th>name</th>\n",
       "      <th>distance</th>\n",
       "      <th>country</th>\n",
       "      <th>city</th>\n",
       "      <th>latitude</th>\n",
       "      <th>longitude</th>\n",
       "      <th>coordinates</th>\n",
       "      <th>category</th>\n",
       "      <th>score</th>\n",
       "    </tr>\n",
       "  </thead>\n",
       "  <tbody>\n",
       "    <tr>\n",
       "      <th>0</th>\n",
       "      <td>Starbucks</td>\n",
       "      <td>444</td>\n",
       "      <td>United States</td>\n",
       "      <td>San Mateo</td>\n",
       "      <td>37.562890</td>\n",
       "      <td>-122.324005</td>\n",
       "      <td>{'type': 'Point', 'coordinates': [-122.324005,...</td>\n",
       "      <td>Coffee Shop</td>\n",
       "      <td>2.0</td>\n",
       "    </tr>\n",
       "    <tr>\n",
       "      <th>1</th>\n",
       "      <td>Starbucks</td>\n",
       "      <td>1665</td>\n",
       "      <td>United States</td>\n",
       "      <td>San Mateo</td>\n",
       "      <td>37.579827</td>\n",
       "      <td>-122.333364</td>\n",
       "      <td>{'type': 'Point', 'coordinates': [-122.3333638...</td>\n",
       "      <td>Coffee Shop</td>\n",
       "      <td>4.0</td>\n",
       "    </tr>\n",
       "    <tr>\n",
       "      <th>2</th>\n",
       "      <td>Starbucks</td>\n",
       "      <td>1853</td>\n",
       "      <td>United States</td>\n",
       "      <td>San Mateo</td>\n",
       "      <td>37.552260</td>\n",
       "      <td>-122.313842</td>\n",
       "      <td>{'type': 'Point', 'coordinates': [-122.3138416...</td>\n",
       "      <td>Coffee Shop</td>\n",
       "      <td>4.0</td>\n",
       "    </tr>\n",
       "    <tr>\n",
       "      <th>3</th>\n",
       "      <td>Starbucks</td>\n",
       "      <td>2413</td>\n",
       "      <td>United States</td>\n",
       "      <td>Burlingame</td>\n",
       "      <td>37.579379</td>\n",
       "      <td>-122.346253</td>\n",
       "      <td>{'type': 'Point', 'coordinates': [-122.3462526...</td>\n",
       "      <td>Coffee Shop</td>\n",
       "      <td>6.0</td>\n",
       "    </tr>\n",
       "    <tr>\n",
       "      <th>4</th>\n",
       "      <td>Starbucks</td>\n",
       "      <td>3677</td>\n",
       "      <td>United States</td>\n",
       "      <td>Foster City</td>\n",
       "      <td>37.558740</td>\n",
       "      <td>-122.283508</td>\n",
       "      <td>{'type': 'Point', 'coordinates': [-122.2835075...</td>\n",
       "      <td>Coffee Shop</td>\n",
       "      <td>6.0</td>\n",
       "    </tr>\n",
       "    <tr>\n",
       "      <th>...</th>\n",
       "      <td>...</td>\n",
       "      <td>...</td>\n",
       "      <td>...</td>\n",
       "      <td>...</td>\n",
       "      <td>...</td>\n",
       "      <td>...</td>\n",
       "      <td>...</td>\n",
       "      <td>...</td>\n",
       "      <td>...</td>\n",
       "    </tr>\n",
       "    <tr>\n",
       "      <th>1776</th>\n",
       "      <td>Jack’s Stir Brew Coffee</td>\n",
       "      <td>23</td>\n",
       "      <td>United States</td>\n",
       "      <td>New York</td>\n",
       "      <td>40.740957</td>\n",
       "      <td>-74.006975</td>\n",
       "      <td>{'type': 'Point', 'coordinates': [-74.00697509...</td>\n",
       "      <td>OTHER</td>\n",
       "      <td>NaN</td>\n",
       "    </tr>\n",
       "    <tr>\n",
       "      <th>1777</th>\n",
       "      <td>Blossom Restaurant</td>\n",
       "      <td>665</td>\n",
       "      <td>United States</td>\n",
       "      <td>New York</td>\n",
       "      <td>40.745394</td>\n",
       "      <td>-74.002106</td>\n",
       "      <td>{'type': 'Point', 'coordinates': [-74.00210631...</td>\n",
       "      <td>OTHER</td>\n",
       "      <td>NaN</td>\n",
       "    </tr>\n",
       "    <tr>\n",
       "      <th>1778</th>\n",
       "      <td>juice press</td>\n",
       "      <td>419</td>\n",
       "      <td>United States</td>\n",
       "      <td>New York</td>\n",
       "      <td>40.739143</td>\n",
       "      <td>-74.002711</td>\n",
       "      <td>{'type': 'Point', 'coordinates': [-74.00271122...</td>\n",
       "      <td>OTHER</td>\n",
       "      <td>NaN</td>\n",
       "    </tr>\n",
       "    <tr>\n",
       "      <th>1779</th>\n",
       "      <td>Liquiteria</td>\n",
       "      <td>438</td>\n",
       "      <td>United States</td>\n",
       "      <td>New York</td>\n",
       "      <td>40.740394</td>\n",
       "      <td>-74.001995</td>\n",
       "      <td>{'type': 'Point', 'coordinates': [-74.00199476...</td>\n",
       "      <td>OTHER</td>\n",
       "      <td>NaN</td>\n",
       "    </tr>\n",
       "    <tr>\n",
       "      <th>1780</th>\n",
       "      <td>The Butcher's Daughter</td>\n",
       "      <td>510</td>\n",
       "      <td>United States</td>\n",
       "      <td>New York</td>\n",
       "      <td>40.736328</td>\n",
       "      <td>-74.005860</td>\n",
       "      <td>{'type': 'Point', 'coordinates': [-74.00585952...</td>\n",
       "      <td>OTHER</td>\n",
       "      <td>NaN</td>\n",
       "    </tr>\n",
       "  </tbody>\n",
       "</table>\n",
       "<p>1781 rows × 9 columns</p>\n",
       "</div>"
      ],
      "text/plain": [
       "                         name  distance        country         city  \\\n",
       "0                   Starbucks       444  United States    San Mateo   \n",
       "1                   Starbucks      1665  United States    San Mateo   \n",
       "2                   Starbucks      1853  United States    San Mateo   \n",
       "3                   Starbucks      2413  United States   Burlingame   \n",
       "4                   Starbucks      3677  United States  Foster City   \n",
       "...                       ...       ...            ...          ...   \n",
       "1776  Jack’s Stir Brew Coffee        23  United States     New York   \n",
       "1777       Blossom Restaurant       665  United States     New York   \n",
       "1778              juice press       419  United States     New York   \n",
       "1779               Liquiteria       438  United States     New York   \n",
       "1780   The Butcher's Daughter       510  United States     New York   \n",
       "\n",
       "       latitude   longitude  \\\n",
       "0     37.562890 -122.324005   \n",
       "1     37.579827 -122.333364   \n",
       "2     37.552260 -122.313842   \n",
       "3     37.579379 -122.346253   \n",
       "4     37.558740 -122.283508   \n",
       "...         ...         ...   \n",
       "1776  40.740957  -74.006975   \n",
       "1777  40.745394  -74.002106   \n",
       "1778  40.739143  -74.002711   \n",
       "1779  40.740394  -74.001995   \n",
       "1780  40.736328  -74.005860   \n",
       "\n",
       "                                            coordinates     category  score  \n",
       "0     {'type': 'Point', 'coordinates': [-122.324005,...  Coffee Shop    2.0  \n",
       "1     {'type': 'Point', 'coordinates': [-122.3333638...  Coffee Shop    4.0  \n",
       "2     {'type': 'Point', 'coordinates': [-122.3138416...  Coffee Shop    4.0  \n",
       "3     {'type': 'Point', 'coordinates': [-122.3462526...  Coffee Shop    6.0  \n",
       "4     {'type': 'Point', 'coordinates': [-122.2835075...  Coffee Shop    6.0  \n",
       "...                                                 ...          ...    ...  \n",
       "1776  {'type': 'Point', 'coordinates': [-74.00697509...        OTHER    NaN  \n",
       "1777  {'type': 'Point', 'coordinates': [-74.00210631...        OTHER    NaN  \n",
       "1778  {'type': 'Point', 'coordinates': [-74.00271122...        OTHER    NaN  \n",
       "1779  {'type': 'Point', 'coordinates': [-74.00199476...        OTHER    NaN  \n",
       "1780  {'type': 'Point', 'coordinates': [-74.00585952...        OTHER    NaN  \n",
       "\n",
       "[1781 rows x 9 columns]"
      ]
     },
     "execution_count": 570,
     "metadata": {},
     "output_type": "execute_result"
    }
   ],
   "source": [
    "data.head(-10)"
   ]
  },
  {
   "cell_type": "code",
   "execution_count": 571,
   "metadata": {},
   "outputs": [],
   "source": [
    "data.drop(data.loc[data['score']> 4].index, inplace=True)"
   ]
  },
  {
   "cell_type": "code",
   "execution_count": 572,
   "metadata": {},
   "outputs": [
    {
     "data": {
      "text/plain": [
       "(1661, 9)"
      ]
     },
     "execution_count": 572,
     "metadata": {},
     "output_type": "execute_result"
    }
   ],
   "source": [
    "data.shape"
   ]
  },
  {
   "cell_type": "code",
   "execution_count": 573,
   "metadata": {},
   "outputs": [],
   "source": [
    "data_new = data"
   ]
  },
  {
   "cell_type": "code",
   "execution_count": 574,
   "metadata": {},
   "outputs": [
    {
     "data": {
      "text/plain": [
       "3.0    164\n",
       "2.0     79\n",
       "1.0     26\n",
       "4.0     15\n",
       "Name: score, dtype: int64"
      ]
     },
     "execution_count": 574,
     "metadata": {},
     "output_type": "execute_result"
    }
   ],
   "source": [
    "data_new.score.value_counts()"
   ]
  },
  {
   "cell_type": "code",
   "execution_count": 575,
   "metadata": {},
   "outputs": [
    {
     "data": {
      "text/plain": [
       "OTHER          1367\n",
       "Coffee Shop     230\n",
       "School           35\n",
       "Airport          10\n",
       "Bar              10\n",
       "Vegan             9\n",
       "Name: category, dtype: int64"
      ]
     },
     "execution_count": 575,
     "metadata": {},
     "output_type": "execute_result"
    }
   ],
   "source": [
    "data_new.category.value_counts()"
   ]
  },
  {
   "cell_type": "code",
   "execution_count": 576,
   "metadata": {},
   "outputs": [],
   "source": [
    "data_new.drop(data_new.loc[data_new.category == 'OTHER'].index, inplace=True)"
   ]
  },
  {
   "cell_type": "code",
   "execution_count": 577,
   "metadata": {},
   "outputs": [],
   "source": [
    "data_new = data.reset_index(drop=True)"
   ]
  },
  {
   "cell_type": "code",
   "execution_count": 578,
   "metadata": {},
   "outputs": [
    {
     "data": {
      "text/plain": [
       "array(['United States', 'Sverige', 'United Kingdom', 'Nederland'],\n",
       "      dtype=object)"
      ]
     },
     "execution_count": 578,
     "metadata": {},
     "output_type": "execute_result"
    }
   ],
   "source": [
    "data_new.country.unique()"
   ]
  },
  {
   "cell_type": "code",
   "execution_count": 579,
   "metadata": {},
   "outputs": [],
   "source": [
    "data_new.loc[(data_new['country']== 'United States'), 'country'] = 'USA'\n",
    "data_new.loc[(data_new['country']== 'Sverige'), 'country'] = 'SWE'\n",
    "data_new.loc[(data_new['country']== 'United Kingdom'), 'country']  = 'GBR'\n",
    "data_new.loc[(data_new['country']== 'Nederland'), 'country']  = 'NLD'\n"
   ]
  },
  {
   "cell_type": "code",
   "execution_count": 580,
   "metadata": {},
   "outputs": [
    {
     "data": {
      "text/plain": [
       "Index(['name', 'distance', 'country', 'city', 'latitude', 'longitude',\n",
       "       'coordinates', 'category', 'score'],\n",
       "      dtype='object')"
      ]
     },
     "execution_count": 580,
     "metadata": {},
     "output_type": "execute_result"
    }
   ],
   "source": [
    "data_new.columns"
   ]
  },
  {
   "cell_type": "code",
   "execution_count": 581,
   "metadata": {},
   "outputs": [],
   "source": [
    "data_new = data_new[[\"name\",\"country\",\"city\", \"coordinates\",\"longitude\",\"latitude\",\"category\", \"score\"]]"
   ]
  },
  {
   "cell_type": "code",
   "execution_count": 582,
   "metadata": {},
   "outputs": [
    {
     "data": {
      "text/plain": [
       "array(['Coffee Shop', 'Airport', 'School', 'Bar', 'Vegan'], dtype=object)"
      ]
     },
     "execution_count": 582,
     "metadata": {},
     "output_type": "execute_result"
    }
   ],
   "source": [
    "data_new.category.unique()"
   ]
  },
  {
   "cell_type": "code",
   "execution_count": 583,
   "metadata": {},
   "outputs": [],
   "source": [
    "data_new.to_json('./output/queries.json', orient='records',default_handler=str)"
   ]
  }
 ],
 "metadata": {
  "kernelspec": {
   "display_name": "Python 3",
   "language": "python",
   "name": "python3"
  },
  "language_info": {
   "codemirror_mode": {
    "name": "ipython",
    "version": 3
   },
   "file_extension": ".py",
   "mimetype": "text/x-python",
   "name": "python",
   "nbconvert_exporter": "python",
   "pygments_lexer": "ipython3",
   "version": "3.7.5"
  }
 },
 "nbformat": 4,
 "nbformat_minor": 2
}
