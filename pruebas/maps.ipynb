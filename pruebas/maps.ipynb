{
 "cells": [
  {
   "cell_type": "code",
   "execution_count": 47,
   "metadata": {},
   "outputs": [],
   "source": [
    "from src.mongo import connectCollection\n",
    "import requests\n",
    "import pprint\n",
    "import re\n",
    "from dotenv import load_dotenv\n",
    "load_dotenv()\n",
    "import pandas as pd\n",
    "import os\n",
    "import json\n",
    "import folium\n",
    "from folium import plugins\n",
    "from folium.plugins import MarkerCluster"
   ]
  },
  {
   "cell_type": "markdown",
   "metadata": {},
   "source": [
    "# Queries collection"
   ]
  },
  {
   "cell_type": "code",
   "execution_count": 69,
   "metadata": {},
   "outputs": [],
   "source": [
    "db, coll = connectCollection('companies','queries')"
   ]
  },
  {
   "cell_type": "code",
   "execution_count": 70,
   "metadata": {},
   "outputs": [],
   "source": [
    "queries = db.queries.find({ \n",
    "    \"score\":{\n",
    "        \"$lte\": 4\n",
    "    }})"
   ]
  },
  {
   "cell_type": "code",
   "execution_count": 71,
   "metadata": {},
   "outputs": [],
   "source": [
    "locations = pd.DataFrame(queries)"
   ]
  },
  {
   "cell_type": "code",
   "execution_count": 72,
   "metadata": {},
   "outputs": [
    {
     "data": {
      "text/html": [
       "<div>\n",
       "<style scoped>\n",
       "    .dataframe tbody tr th:only-of-type {\n",
       "        vertical-align: middle;\n",
       "    }\n",
       "\n",
       "    .dataframe tbody tr th {\n",
       "        vertical-align: top;\n",
       "    }\n",
       "\n",
       "    .dataframe thead th {\n",
       "        text-align: right;\n",
       "    }\n",
       "</style>\n",
       "<table border=\"1\" class=\"dataframe\">\n",
       "  <thead>\n",
       "    <tr style=\"text-align: right;\">\n",
       "      <th></th>\n",
       "      <th>_id</th>\n",
       "      <th>name</th>\n",
       "      <th>country</th>\n",
       "      <th>city</th>\n",
       "      <th>coordinates</th>\n",
       "      <th>longitude</th>\n",
       "      <th>latitude</th>\n",
       "      <th>category</th>\n",
       "      <th>score</th>\n",
       "    </tr>\n",
       "  </thead>\n",
       "  <tbody>\n",
       "    <tr>\n",
       "      <th>0</th>\n",
       "      <td>5e0e60a33697832754a1ac31</td>\n",
       "      <td>Starbucks</td>\n",
       "      <td>USA</td>\n",
       "      <td>New York</td>\n",
       "      <td>{'type': 'Point', 'coordinates': [-73.98512676...</td>\n",
       "      <td>-73.985127</td>\n",
       "      <td>40.759563</td>\n",
       "      <td>Coffee Shop</td>\n",
       "      <td>1.0</td>\n",
       "    </tr>\n",
       "    <tr>\n",
       "      <th>1</th>\n",
       "      <td>5e0e60a33697832754a1ac32</td>\n",
       "      <td>Starbucks</td>\n",
       "      <td>USA</td>\n",
       "      <td>New York</td>\n",
       "      <td>{'type': 'Point', 'coordinates': [-73.99094694...</td>\n",
       "      <td>-73.990947</td>\n",
       "      <td>40.756638</td>\n",
       "      <td>Coffee Shop</td>\n",
       "      <td>2.0</td>\n",
       "    </tr>\n",
       "    <tr>\n",
       "      <th>2</th>\n",
       "      <td>5e0e60a33697832754a1ac33</td>\n",
       "      <td>Starbucks</td>\n",
       "      <td>USA</td>\n",
       "      <td>New York</td>\n",
       "      <td>{'type': 'Point', 'coordinates': [-73.98380932...</td>\n",
       "      <td>-73.983809</td>\n",
       "      <td>40.760567</td>\n",
       "      <td>Coffee Shop</td>\n",
       "      <td>2.0</td>\n",
       "    </tr>\n",
       "    <tr>\n",
       "      <th>3</th>\n",
       "      <td>5e0e60a33697832754a1ac34</td>\n",
       "      <td>Starbucks</td>\n",
       "      <td>USA</td>\n",
       "      <td>New York</td>\n",
       "      <td>{'type': 'Point', 'coordinates': [-73.98704612...</td>\n",
       "      <td>-73.987046</td>\n",
       "      <td>40.754292</td>\n",
       "      <td>Coffee Shop</td>\n",
       "      <td>2.0</td>\n",
       "    </tr>\n",
       "    <tr>\n",
       "      <th>4</th>\n",
       "      <td>5e0e60a33697832754a1ac35</td>\n",
       "      <td>Starbucks</td>\n",
       "      <td>USA</td>\n",
       "      <td>New York</td>\n",
       "      <td>{'type': 'Point', 'coordinates': [-73.98363055...</td>\n",
       "      <td>-73.983631</td>\n",
       "      <td>40.762111</td>\n",
       "      <td>Coffee Shop</td>\n",
       "      <td>2.0</td>\n",
       "    </tr>\n",
       "  </tbody>\n",
       "</table>\n",
       "</div>"
      ],
      "text/plain": [
       "                        _id       name country      city  \\\n",
       "0  5e0e60a33697832754a1ac31  Starbucks     USA  New York   \n",
       "1  5e0e60a33697832754a1ac32  Starbucks     USA  New York   \n",
       "2  5e0e60a33697832754a1ac33  Starbucks     USA  New York   \n",
       "3  5e0e60a33697832754a1ac34  Starbucks     USA  New York   \n",
       "4  5e0e60a33697832754a1ac35  Starbucks     USA  New York   \n",
       "\n",
       "                                         coordinates  longitude   latitude  \\\n",
       "0  {'type': 'Point', 'coordinates': [-73.98512676... -73.985127  40.759563   \n",
       "1  {'type': 'Point', 'coordinates': [-73.99094694... -73.990947  40.756638   \n",
       "2  {'type': 'Point', 'coordinates': [-73.98380932... -73.983809  40.760567   \n",
       "3  {'type': 'Point', 'coordinates': [-73.98704612... -73.987046  40.754292   \n",
       "4  {'type': 'Point', 'coordinates': [-73.98363055... -73.983631  40.762111   \n",
       "\n",
       "      category  score  \n",
       "0  Coffee Shop    1.0  \n",
       "1  Coffee Shop    2.0  \n",
       "2  Coffee Shop    2.0  \n",
       "3  Coffee Shop    2.0  \n",
       "4  Coffee Shop    2.0  "
      ]
     },
     "execution_count": 72,
     "metadata": {},
     "output_type": "execute_result"
    }
   ],
   "source": [
    "locations.head()"
   ]
  },
  {
   "cell_type": "code",
   "execution_count": 73,
   "metadata": {},
   "outputs": [
    {
     "data": {
      "text/plain": [
       "array(['Coffee Shop', 'Airport', 'Vegan', 'School'], dtype=object)"
      ]
     },
     "execution_count": 73,
     "metadata": {},
     "output_type": "execute_result"
    }
   ],
   "source": [
    "locations.category.unique()"
   ]
  },
  {
   "cell_type": "code",
   "execution_count": 111,
   "metadata": {},
   "outputs": [],
   "source": [
    "colors = {1 : 'red', 2 : 'yellow', 3: 'blue', 4: 'purple'}\n",
    "icons = {'Coffee Shop': 'coffee', 'Airport': 'plane','School': 'book', 'Vegan': 'apple' }"
   ]
  },
  {
   "cell_type": "code",
   "execution_count": 112,
   "metadata": {},
   "outputs": [
    {
     "data": {
      "text/plain": [
       "'\\nlocations.apply(lambda row:folium.CircleMarker(location=[row[\"latitude\"], row[\"longitude\"]], \\n                                              radius=10, fill_color=colors[row[\\'score\\']],popup=row[\\'name\\'])\\n                                             .add_to(m), axis=1)'"
      ]
     },
     "execution_count": 112,
     "metadata": {},
     "output_type": "execute_result"
    }
   ],
   "source": [
    "\"\"\"\n",
    "locations.apply(lambda row:folium.CircleMarker(location=[row[\"latitude\"], row[\"longitude\"]], \n",
    "                                              radius=10, fill_color=colors[row['score']],popup=row['name'])\n",
    "                                             .add_to(m), axis=1)\"\"\"\n"
   ]
  },
  {
   "cell_type": "code",
   "execution_count": 113,
   "metadata": {
    "scrolled": true
   },
   "outputs": [
    {
     "name": "stderr",
     "output_type": "stream",
     "text": [
      "/usr/lib/python3/dist-packages/ipykernel_launcher.py:9: UserWarning: color argument of Icon should be one of: {'lightgray', 'gray', 'pink', 'green', 'darkgreen', 'white', 'orange', 'darkred', 'red', 'cadetblue', 'lightblue', 'black', 'lightgreen', 'darkblue', 'blue', 'beige', 'darkpurple', 'lightred', 'purple'}.\n",
      "  if __name__ == '__main__':\n"
     ]
    }
   ],
   "source": [
    "map2 = folium.Map(location=[37.5579101647, -122.3221364075], tiles='CartoDB positron', zoom_start=11)\n",
    "\n",
    "marker_cluster = folium.plugins.MarkerCluster().add_to(map2)\n",
    "\n",
    "for index,row in locations.iterrows():\n",
    "    folium.Marker(location=[row[\"latitude\"], row[\"longitude\"]],\n",
    "                popup = [row['name']],\n",
    "                icon=folium.Icon(color=colors[row['score']], icon = icons[row['category']],\n",
    "                icon_color='white', angle=0, prefix='fa')).add_to(marker_cluster)\n"
   ]
  },
  {
   "cell_type": "markdown",
   "metadata": {},
   "source": [
    "# Companies collection"
   ]
  },
  {
   "cell_type": "code",
   "execution_count": 91,
   "metadata": {},
   "outputs": [],
   "source": [
    "db, coll2 = connectCollection('companies','best')"
   ]
  },
  {
   "cell_type": "code",
   "execution_count": 92,
   "metadata": {},
   "outputs": [],
   "source": [
    "best = db.best.find({ \n",
    "    \"category\":{\n",
    "        \"$eq\": 'web'\n",
    "    }})"
   ]
  },
  {
   "cell_type": "code",
   "execution_count": 93,
   "metadata": {},
   "outputs": [],
   "source": [
    "locations_comp = pd.DataFrame(best)"
   ]
  },
  {
   "cell_type": "code",
   "execution_count": 94,
   "metadata": {},
   "outputs": [],
   "source": [
    "locations_comp.drop(['coordinates','_id','id'], axis=1 ,inplace=True)"
   ]
  },
  {
   "cell_type": "code",
   "execution_count": 97,
   "metadata": {},
   "outputs": [
    {
     "data": {
      "text/html": [
       "<div>\n",
       "<style scoped>\n",
       "    .dataframe tbody tr th:only-of-type {\n",
       "        vertical-align: middle;\n",
       "    }\n",
       "\n",
       "    .dataframe tbody tr th {\n",
       "        vertical-align: top;\n",
       "    }\n",
       "\n",
       "    .dataframe thead th {\n",
       "        text-align: right;\n",
       "    }\n",
       "</style>\n",
       "<table border=\"1\" class=\"dataframe\">\n",
       "  <thead>\n",
       "    <tr style=\"text-align: right;\">\n",
       "      <th></th>\n",
       "      <th>name</th>\n",
       "      <th>employees</th>\n",
       "      <th>year</th>\n",
       "      <th>category</th>\n",
       "      <th>money_raised</th>\n",
       "      <th>city</th>\n",
       "      <th>country</th>\n",
       "      <th>latitude</th>\n",
       "      <th>longitude</th>\n",
       "      <th>number offices near</th>\n",
       "    </tr>\n",
       "  </thead>\n",
       "  <tbody>\n",
       "    <tr>\n",
       "      <th>0</th>\n",
       "      <td>Social Gaming Network</td>\n",
       "      <td>100.0</td>\n",
       "      <td>2011</td>\n",
       "      <td>web</td>\n",
       "      <td>17100000.0</td>\n",
       "      <td>Los Angeles</td>\n",
       "      <td>USA</td>\n",
       "      <td>37.446823</td>\n",
       "      <td>-122.161523</td>\n",
       "      <td>3</td>\n",
       "    </tr>\n",
       "    <tr>\n",
       "      <th>1</th>\n",
       "      <td>Burt</td>\n",
       "      <td>30.0</td>\n",
       "      <td>2009</td>\n",
       "      <td>web</td>\n",
       "      <td>3500000.0</td>\n",
       "      <td>Gothenburg</td>\n",
       "      <td>SWE</td>\n",
       "      <td>59.337864</td>\n",
       "      <td>18.036587</td>\n",
       "      <td>2</td>\n",
       "    </tr>\n",
       "    <tr>\n",
       "      <th>2</th>\n",
       "      <td>Inuvo</td>\n",
       "      <td>50.0</td>\n",
       "      <td>2009</td>\n",
       "      <td>web</td>\n",
       "      <td>4200000.0</td>\n",
       "      <td>Clearwater</td>\n",
       "      <td>USA</td>\n",
       "      <td>27.913011</td>\n",
       "      <td>-82.702449</td>\n",
       "      <td>2</td>\n",
       "    </tr>\n",
       "    <tr>\n",
       "      <th>3</th>\n",
       "      <td>Burt</td>\n",
       "      <td>30.0</td>\n",
       "      <td>2009</td>\n",
       "      <td>web</td>\n",
       "      <td>3500000.0</td>\n",
       "      <td>Gothenburg</td>\n",
       "      <td>SWE</td>\n",
       "      <td>59.337864</td>\n",
       "      <td>18.036587</td>\n",
       "      <td>2</td>\n",
       "    </tr>\n",
       "    <tr>\n",
       "      <th>4</th>\n",
       "      <td>Inuvo</td>\n",
       "      <td>50.0</td>\n",
       "      <td>2009</td>\n",
       "      <td>web</td>\n",
       "      <td>4200000.0</td>\n",
       "      <td>Clearwater</td>\n",
       "      <td>USA</td>\n",
       "      <td>27.913011</td>\n",
       "      <td>-82.702449</td>\n",
       "      <td>2</td>\n",
       "    </tr>\n",
       "  </tbody>\n",
       "</table>\n",
       "</div>"
      ],
      "text/plain": [
       "                    name  employees  year category  money_raised         city  \\\n",
       "0  Social Gaming Network      100.0  2011      web    17100000.0  Los Angeles   \n",
       "1                   Burt       30.0  2009      web     3500000.0   Gothenburg   \n",
       "2                  Inuvo       50.0  2009      web     4200000.0   Clearwater   \n",
       "3                   Burt       30.0  2009      web     3500000.0   Gothenburg   \n",
       "4                  Inuvo       50.0  2009      web     4200000.0   Clearwater   \n",
       "\n",
       "  country   latitude   longitude  number offices near  \n",
       "0     USA  37.446823 -122.161523                    3  \n",
       "1     SWE  59.337864   18.036587                    2  \n",
       "2     USA  27.913011  -82.702449                    2  \n",
       "3     SWE  59.337864   18.036587                    2  \n",
       "4     USA  27.913011  -82.702449                    2  "
      ]
     },
     "execution_count": 97,
     "metadata": {},
     "output_type": "execute_result"
    }
   ],
   "source": [
    "locations_comp.head()"
   ]
  },
  {
   "cell_type": "code",
   "execution_count": 105,
   "metadata": {},
   "outputs": [],
   "source": [
    "colors2 = {2: 'blue', 3: 'yellow', 6:'orange',7:'red'}\n",
    "icons2= {'web': 'briefcase'}"
   ]
  },
  {
   "cell_type": "code",
   "execution_count": 106,
   "metadata": {},
   "outputs": [
    {
     "name": "stderr",
     "output_type": "stream",
     "text": [
      "/usr/lib/python3/dist-packages/ipykernel_launcher.py:5: UserWarning: color argument of Icon should be one of: {'lightgray', 'gray', 'pink', 'green', 'darkgreen', 'white', 'orange', 'darkred', 'red', 'cadetblue', 'lightblue', 'black', 'lightgreen', 'darkblue', 'blue', 'beige', 'darkpurple', 'lightred', 'purple'}.\n",
      "  \"\"\"\n"
     ]
    }
   ],
   "source": [
    "for index,row in locations_comp.iterrows():\n",
    "    folium.Marker(location=[row[\"latitude\"], row[\"longitude\"]],\n",
    "                popup = [row['name']],\n",
    "                icon=folium.Icon(color=colors2[row['number offices near']], icon = icons2[row['category']],\n",
    "                icon_color='white', angle=0, prefix='fa')).add_to(marker_cluster)"
   ]
  },
  {
   "cell_type": "code",
   "execution_count": 108,
   "metadata": {},
   "outputs": [],
   "source": [
    "map2.save('mapNY.html')"
   ]
  }
 ],
 "metadata": {
  "kernelspec": {
   "display_name": "Python 3",
   "language": "python",
   "name": "python3"
  },
  "language_info": {
   "codemirror_mode": {
    "name": "ipython",
    "version": 3
   },
   "file_extension": ".py",
   "mimetype": "text/x-python",
   "name": "python",
   "nbconvert_exporter": "python",
   "pygments_lexer": "ipython3",
   "version": "3.7.5"
  }
 },
 "nbformat": 4,
 "nbformat_minor": 2
}
