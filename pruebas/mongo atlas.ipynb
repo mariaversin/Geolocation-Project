{
 "cells": [
  {
   "cell_type": "code",
   "execution_count": 7,
   "metadata": {},
   "outputs": [
    {
     "data": {
      "text/plain": [
       "True"
      ]
     },
     "execution_count": 7,
     "metadata": {},
     "output_type": "execute_result"
    }
   ],
   "source": [
    "from pymongo import MongoClient\n",
    "import getpass\n",
    "import json\n",
    "import os\n",
    "from dotenv import load_dotenv\n",
    "load_dotenv()"
   ]
  },
  {
   "cell_type": "code",
   "execution_count": 8,
   "metadata": {},
   "outputs": [
    {
     "name": "stdout",
     "output_type": "stream",
     "text": [
      "Insert your AtlasMongoDB admin_1019 password: ········\n"
     ]
    }
   ],
   "source": [
    "password = getpass.getpass(\"Insert your AtlasMongoDB admin_1019 password: \")\n",
    "connection = \"mongodb+srv://Maria:{}@cluster0-zs6n0.mongodb.net/test?retryWrites=true&w=majority\".format(password)"
   ]
  },
  {
   "cell_type": "code",
   "execution_count": 9,
   "metadata": {},
   "outputs": [],
   "source": [
    "#Connect to DB\n",
    "client = MongoClient(connection)\n",
    "def connectCollection(database, collection):\n",
    "    db = client[database]\n",
    "    coll = db[collection]\n",
    "    return db, coll\n",
    "\n",
    "\n",
    "db, coll1 = connectCollection('companies','bestcomp')\n",
    "db, coll2 = connectCollection('companies','queries')\n",
    "with open('companies.json') as f:\n",
    "    companies = json.load(f)\n",
    "\n",
    "\n",
    "if coll1 == 0 and coll2 ==0:\n",
    "    coll1.insert_many(companies)\n",
    "   "
   ]
  },
  {
   "cell_type": "code",
   "execution_count": 10,
   "metadata": {},
   "outputs": [],
   "source": [
    "with open('queries.json') as g:\n",
    "    queries = json.load(g)\n",
    "\n",
    "\n",
    "if coll2 == 0:\n",
    "    coll2.insert_many(queries)"
   ]
  }
 ],
 "metadata": {
  "kernelspec": {
   "display_name": "Python 3",
   "language": "python",
   "name": "python3"
  },
  "language_info": {
   "codemirror_mode": {
    "name": "ipython",
    "version": 3
   },
   "file_extension": ".py",
   "mimetype": "text/x-python",
   "name": "python",
   "nbconvert_exporter": "python",
   "pygments_lexer": "ipython3",
   "version": "3.7.5"
  }
 },
 "nbformat": 4,
 "nbformat_minor": 2
}
